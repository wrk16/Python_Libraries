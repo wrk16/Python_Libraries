{
 "cells": [
  {
   "cell_type": "markdown",
   "id": "4896c297",
   "metadata": {},
   "source": [
    "# Functions in Python\n",
    " - Why Functions?\n",
    " - Function Definition\n",
    " - Positional and Keyword Arguments in Functions"
   ]
  },
  {
   "cell_type": "markdown",
   "id": "6021336b",
   "metadata": {},
   "source": [
    "## Why Functions?\n",
    "\n",
    "1. Code Reusability: Functions allow you to write a block of code once and reuse it multiple times throughout your program. This avoids code duplication and makes your code more organized and maintainable.\n",
    "\n",
    "2. Modularization: Functions break down complex problems into smaller, more manageable pieces. This improves code readability and makes it easier to understand the logic flow.\n",
    "\n",
    "3. Improved Readability: Functions with clear and descriptive names enhance code readability by encapsulating specific tasks within well-defined blocks.\n",
    "\n",
    "## Function Definition\n",
    "\n",
    "Here's the basic structure of defining a function in Python:\n",
    "\n",
    "    Python\n",
    "        def function_name(parameters):\n",
    "          \"\"\"Function Docstring (Optional)\"\"\"\n",
    "           #Function body (code to be executed)\n",
    "          return output  \n",
    "          # Optional, specifies the value returned by the function\n",
    "\n",
    "\n",
    "\n",
    "\n",
    "\n",
    "\n"
   ]
  },
  {
   "cell_type": "code",
   "execution_count": 5,
   "id": "663e3ba6",
   "metadata": {},
   "outputs": [
    {
     "name": "stdout",
     "output_type": "stream",
     "text": [
      "Hello, Ravi!\n"
     ]
    }
   ],
   "source": [
    "def greet(name):\n",
    "  \"\"\"Prints a greeting message.\"\"\"\n",
    "  print(\"Hello,\", name + \"!\")\n",
    "\n",
    "greet(\"Ravi\")  # Calling the function with argument \"Alice\"\n"
   ]
  },
  {
   "cell_type": "code",
   "execution_count": 6,
   "id": "f7506074",
   "metadata": {},
   "outputs": [],
   "source": [
    "def evnorodd(num):\n",
    "    if num % 2==0:\n",
    "        print('Even Number')\n",
    "    else:\n",
    "        print('Odd Number')"
   ]
  },
  {
   "cell_type": "code",
   "execution_count": 8,
   "id": "8ec3f92b",
   "metadata": {},
   "outputs": [
    {
     "name": "stdout",
     "output_type": "stream",
     "text": [
      "Odd Number\n"
     ]
    }
   ],
   "source": [
    "evnorodd(33)"
   ]
  },
  {
   "cell_type": "code",
   "execution_count": 9,
   "id": "ece841b0",
   "metadata": {},
   "outputs": [
    {
     "name": "stdout",
     "output_type": "stream",
     "text": [
      "Even Number\n"
     ]
    }
   ],
   "source": [
    "evnorodd(325541369416)"
   ]
  },
  {
   "cell_type": "code",
   "execution_count": 10,
   "id": "c7b84c2f",
   "metadata": {},
   "outputs": [],
   "source": [
    "# print vs return\n",
    "def hello():\n",
    "    print(\"Hello Welcome\")"
   ]
  },
  {
   "cell_type": "code",
   "execution_count": 11,
   "id": "de2d3d3e",
   "metadata": {},
   "outputs": [
    {
     "name": "stdout",
     "output_type": "stream",
     "text": [
      "Hello Welcome\n"
     ]
    }
   ],
   "source": [
    "hello()"
   ]
  },
  {
   "cell_type": "code",
   "execution_count": 12,
   "id": "e3719111",
   "metadata": {},
   "outputs": [
    {
     "name": "stdout",
     "output_type": "stream",
     "text": [
      "Hello Welcome\n"
     ]
    }
   ],
   "source": [
    "val=hello()\n",
    "val"
   ]
  },
  {
   "cell_type": "code",
   "execution_count": 14,
   "id": "7343bd76",
   "metadata": {},
   "outputs": [
    {
     "name": "stdout",
     "output_type": "stream",
     "text": [
      "None\n"
     ]
    }
   ],
   "source": [
    "print(val) #It gives None as we get only get printed that fn returns.."
   ]
  },
  {
   "cell_type": "code",
   "execution_count": 15,
   "id": "77e8735a",
   "metadata": {},
   "outputs": [],
   "source": [
    "def hello_new():\n",
    "    return \"Hello Welcome\""
   ]
  },
  {
   "cell_type": "code",
   "execution_count": 16,
   "id": "4fa968bc",
   "metadata": {},
   "outputs": [
    {
     "name": "stdout",
     "output_type": "stream",
     "text": [
      "Hello Welcome\n"
     ]
    }
   ],
   "source": [
    "print(hello_new())"
   ]
  },
  {
   "cell_type": "markdown",
   "id": "7bde60c1",
   "metadata": {},
   "source": [
    "## Positional and Keyword Arguments in Functions\n",
    "\n",
    "#### Positional Arguments:  \n",
    "\n",
    "    When calling a function, you provide values in the same order they are defined as parameters in the function definition. These are matched by position.\n",
    "\n",
    "\n",
    "\n",
    "\n",
    "\n",
    "\n"
   ]
  },
  {
   "cell_type": "code",
   "execution_count": 2,
   "id": "c1629714",
   "metadata": {},
   "outputs": [
    {
     "name": "stdout",
     "output_type": "stream",
     "text": [
      "Area of rectangle: 15\n"
     ]
    }
   ],
   "source": [
    "def calculate_area(length, width):  # Function with positional arguments\n",
    "  area = length * width\n",
    "  return area\n",
    "\n",
    "rectangle_area = calculate_area(5, 3)  # Calling with positional arguments (length = 5, width = 3)\n",
    "print(\"Area of rectangle:\", rectangle_area)"
   ]
  },
  {
   "cell_type": "markdown",
   "id": "5dbb9ec7",
   "metadata": {},
   "source": [
    "#### Keyword Arguments: \n",
    "\n",
    "    Keyword arguments allow you to provide values for parameters by name when calling a function. This is useful when you want to call the function with arguments in any order."
   ]
  },
  {
   "cell_type": "code",
   "execution_count": 23,
   "id": "23c62bbb",
   "metadata": {},
   "outputs": [],
   "source": [
    "def hi(name,age=22):\n",
    "    print('My name is {} and age is {}'.format(name,age))"
   ]
  },
  {
   "cell_type": "code",
   "execution_count": 24,
   "id": "b04ad741",
   "metadata": {},
   "outputs": [
    {
     "ename": "TypeError",
     "evalue": "hi() missing 1 required positional argument: 'name'",
     "output_type": "error",
     "traceback": [
      "\u001b[1;31m---------------------------------------------------------------------------\u001b[0m",
      "\u001b[1;31mTypeError\u001b[0m                                 Traceback (most recent call last)",
      "Cell \u001b[1;32mIn[24], line 1\u001b[0m\n\u001b[1;32m----> 1\u001b[0m hi()\n",
      "\u001b[1;31mTypeError\u001b[0m: hi() missing 1 required positional argument: 'name'"
     ]
    }
   ],
   "source": [
    "hi()"
   ]
  },
  {
   "cell_type": "markdown",
   "id": "4bdc1012",
   "metadata": {},
   "source": [
    "       Here we can clearly see that name is my positional argument and age is my keyword argument."
   ]
  },
  {
   "cell_type": "code",
   "execution_count": 25,
   "id": "ec353cb8",
   "metadata": {},
   "outputs": [
    {
     "name": "stdout",
     "output_type": "stream",
     "text": [
      "My name is Raj and age is 22\n"
     ]
    }
   ],
   "source": [
    "hi('Raj')"
   ]
  },
  {
   "cell_type": "code",
   "execution_count": 26,
   "id": "9b677dc1",
   "metadata": {},
   "outputs": [
    {
     "name": "stdout",
     "output_type": "stream",
     "text": [
      "My name is Ravi and age is 29\n"
     ]
    }
   ],
   "source": [
    "hi(\"Ravi\",29)"
   ]
  },
  {
   "cell_type": "code",
   "execution_count": 29,
   "id": "e1bbceab",
   "metadata": {},
   "outputs": [
    {
     "name": "stdout",
     "output_type": "stream",
     "text": [
      "My name is Raj and age is Abhishek\n"
     ]
    }
   ],
   "source": [
    "hi('Raj','Abhishek')"
   ]
  },
  {
   "cell_type": "code",
   "execution_count": 28,
   "id": "662799cd",
   "metadata": {},
   "outputs": [
    {
     "ename": "TypeError",
     "evalue": "hi() got multiple values for argument 'age'",
     "output_type": "error",
     "traceback": [
      "\u001b[1;31m---------------------------------------------------------------------------\u001b[0m",
      "\u001b[1;31mTypeError\u001b[0m                                 Traceback (most recent call last)",
      "Cell \u001b[1;32mIn[28], line 1\u001b[0m\n\u001b[1;32m----> 1\u001b[0m hi(\u001b[38;5;124m'\u001b[39m\u001b[38;5;124mRaj\u001b[39m\u001b[38;5;124m'\u001b[39m,\u001b[38;5;124m'\u001b[39m\u001b[38;5;124mAbhishek\u001b[39m\u001b[38;5;124m'\u001b[39m,age\u001b[38;5;241m=\u001b[39m\u001b[38;5;241m15\u001b[39m)\n",
      "\u001b[1;31mTypeError\u001b[0m: hi() got multiple values for argument 'age'"
     ]
    }
   ],
   "source": [
    "hi('Raj','Abhishek',age=15)"
   ]
  },
  {
   "cell_type": "code",
   "execution_count": 4,
   "id": "c1fd1dbd",
   "metadata": {},
   "outputs": [
    {
     "name": "stdout",
     "output_type": "stream",
     "text": [
      "Raj Aryan\n",
      "Raj Aryan\n"
     ]
    }
   ],
   "source": [
    "\n",
    "def full_name(first, last):  # Function with keyword arguments\n",
    "  \"\"\"Combines first and last name.\"\"\"\n",
    "  full_name = first + \" \" + last\n",
    "  return full_name\n",
    "\n",
    "print(full_name(first=\"Raj\", last=\"Aryan\"))  # Keyword arguments\n",
    "print(full_name(last=\"Aryan\", first=\"Raj\"))        # Order doesn't matter"
   ]
  },
  {
   "cell_type": "code",
   "execution_count": 30,
   "id": "cde5c1f2",
   "metadata": {},
   "outputs": [],
   "source": [
    "def hii(*args,**kwargs):\n",
    "    print(args)\n",
    "    print(kwargs)"
   ]
  },
  {
   "cell_type": "code",
   "execution_count": 31,
   "id": "2a2a7e3d",
   "metadata": {},
   "outputs": [
    {
     "name": "stdout",
     "output_type": "stream",
     "text": [
      "('Raj Aryan', 'Shivam', 'Ayushi')\n",
      "{'age': 22, 'DOB': 2003}\n"
     ]
    }
   ],
   "source": [
    "hii('Raj Aryan','Shivam','Ayushi',age=22,DOB=2003)"
   ]
  },
  {
   "cell_type": "code",
   "execution_count": 32,
   "id": "8f78f979",
   "metadata": {},
   "outputs": [],
   "source": [
    "lst=['Raj','Aryan']\n",
    "dict_args={'age':22,'DOB':2003}"
   ]
  },
  {
   "cell_type": "code",
   "execution_count": 33,
   "id": "080c21e7",
   "metadata": {},
   "outputs": [
    {
     "name": "stdout",
     "output_type": "stream",
     "text": [
      "(['Raj', 'Aryan'], {'age': 22, 'DOB': 2003})\n",
      "{}\n"
     ]
    }
   ],
   "source": [
    "hii(lst,dict_args)"
   ]
  },
  {
   "cell_type": "markdown",
   "id": "4b3e64d2",
   "metadata": {},
   "source": [
    "Here we can see it is taking both of them as positional arguments to fix this we will have to specify like:"
   ]
  },
  {
   "cell_type": "code",
   "execution_count": 34,
   "id": "2b4fd3ef",
   "metadata": {},
   "outputs": [
    {
     "name": "stdout",
     "output_type": "stream",
     "text": [
      "('Raj', 'Aryan')\n",
      "{'age': 22, 'DOB': 2003}\n"
     ]
    }
   ],
   "source": [
    "hii(*lst,**dict_args)"
   ]
  },
  {
   "cell_type": "code",
   "execution_count": 35,
   "id": "bbbdbc94",
   "metadata": {},
   "outputs": [
    {
     "ename": "SyntaxError",
     "evalue": "iterable argument unpacking follows keyword argument unpacking (3304101327.py, line 1)",
     "output_type": "error",
     "traceback": [
      "\u001b[1;36m  Cell \u001b[1;32mIn[35], line 1\u001b[1;36m\u001b[0m\n\u001b[1;33m    hii(**lst,*dict_args)\u001b[0m\n\u001b[1;37m        ^\u001b[0m\n\u001b[1;31mSyntaxError\u001b[0m\u001b[1;31m:\u001b[0m iterable argument unpacking follows keyword argument unpacking\n"
     ]
    }
   ],
   "source": [
    "hii(**lst,*dict_args)"
   ]
  },
  {
   "cell_type": "markdown",
   "id": "d49ae8e4",
   "metadata": {},
   "source": [
    "Here in Python also the return statement can not return multiple values directly instead it can return it in the form of a list or a tuple or may be a dictionary!!"
   ]
  },
  {
   "cell_type": "code",
   "execution_count": 38,
   "id": "67d2ced4",
   "metadata": {},
   "outputs": [],
   "source": [
    "my_list=[2,5,3,6,9.4,22,4,6,89,1,6,8,77]\n",
    "def sumeo(lst):\n",
    "    e_sum=0\n",
    "    o_sum=0\n",
    "    for i in lst:\n",
    "        if i%2 == 0:\n",
    "            e_sum +=1\n",
    "        else :\n",
    "            o_sum +=1\n",
    "    return e_sum,o_sum"
   ]
  },
  {
   "cell_type": "code",
   "execution_count": 40,
   "id": "6cb6bc67",
   "metadata": {},
   "outputs": [
    {
     "data": {
      "text/plain": [
       "(7, 6)"
      ]
     },
     "execution_count": 40,
     "metadata": {},
     "output_type": "execute_result"
    }
   ],
   "source": [
    "sumeo(my_list)"
   ]
  },
  {
   "cell_type": "markdown",
   "id": "3ca9ce7c",
   "metadata": {},
   "source": [
    "In this way the function will return in the form of a Tuple."
   ]
  },
  {
   "cell_type": "code",
   "execution_count": 42,
   "id": "ab2cffbe",
   "metadata": {},
   "outputs": [
    {
     "data": {
      "text/plain": [
       "[7, 6]"
      ]
     },
     "execution_count": 42,
     "metadata": {},
     "output_type": "execute_result"
    }
   ],
   "source": [
    "def sumeoL(lst):\n",
    "    e_sum=0\n",
    "    o_sum=0\n",
    "    for i in lst:\n",
    "        if i%2 == 0:\n",
    "            e_sum +=1\n",
    "        else :\n",
    "            o_sum +=1\n",
    "    return [e_sum,o_sum]\n",
    "\n",
    "sumeoL(my_list)"
   ]
  },
  {
   "cell_type": "markdown",
   "id": "9a5364e5",
   "metadata": {},
   "source": [
    "Here it returns a List"
   ]
  },
  {
   "cell_type": "code",
   "execution_count": 44,
   "id": "481ee249",
   "metadata": {},
   "outputs": [
    {
     "data": {
      "text/plain": [
       "{'Even Sum': 7, 'Odd Sum': 6}"
      ]
     },
     "execution_count": 44,
     "metadata": {},
     "output_type": "execute_result"
    }
   ],
   "source": [
    "def sumeoD(lst):\n",
    "    e_sum=0\n",
    "    o_sum=0\n",
    "    for i in lst:\n",
    "        if i%2 == 0:\n",
    "            e_sum +=1\n",
    "        else :\n",
    "            o_sum +=1\n",
    "    return {\"Even Sum\": e_sum, \"Odd Sum\": o_sum}\n",
    "\n",
    "sumeoD(my_list)"
   ]
  },
  {
   "cell_type": "markdown",
   "id": "2ebaf0f5",
   "metadata": {},
   "source": [
    "And here it returns a Dictionary value."
   ]
  },
  {
   "cell_type": "markdown",
   "id": "9a0310a5",
   "metadata": {},
   "source": [
    "# Lambda Function\n",
    "\n",
    "- In Python, a lambda function is a concise way to define an anonymous function. Anonymous functions are functions that don't have a name.\n",
    "\n",
    "\n",
    "- Always remember if we have a function with single returning statement only we can create a lambda function.\n",
    "\n",
    "\n",
    "- A Lambda function is also known as:\n",
    "            \n",
    "            - Anonymous Function\n",
    "            - Function with no name\n",
    "            \n",
    "- Syntax is like:\n",
    "              \n",
    "              lambda arguments: expression\n",
    "              \n",
    "         Write the word 'lambda' then give the param/arguments put a colon and write the operation.\n"
   ]
  },
  {
   "cell_type": "code",
   "execution_count": 45,
   "id": "4009ae6b",
   "metadata": {},
   "outputs": [],
   "source": [
    "def add(a,b):\n",
    "    return a+b"
   ]
  },
  {
   "cell_type": "code",
   "execution_count": 46,
   "id": "c19736f7",
   "metadata": {},
   "outputs": [
    {
     "data": {
      "text/plain": [
       "5656"
      ]
     },
     "execution_count": 46,
     "metadata": {},
     "output_type": "execute_result"
    }
   ],
   "source": [
    "add(10,5646)"
   ]
  },
  {
   "cell_type": "code",
   "execution_count": 47,
   "id": "a9f41f56",
   "metadata": {},
   "outputs": [],
   "source": [
    "# Smart way\n",
    "addition=lambda a,b:a+b"
   ]
  },
  {
   "cell_type": "code",
   "execution_count": 48,
   "id": "f316601e",
   "metadata": {},
   "outputs": [
    {
     "data": {
      "text/plain": [
       "35"
      ]
     },
     "execution_count": 48,
     "metadata": {},
     "output_type": "execute_result"
    }
   ],
   "source": [
    "addition(10,25)"
   ]
  },
  {
   "cell_type": "code",
   "execution_count": 49,
   "id": "76377e7d",
   "metadata": {},
   "outputs": [],
   "source": [
    "IsEven= lambda num:num%2 ==0"
   ]
  },
  {
   "cell_type": "code",
   "execution_count": 50,
   "id": "9801fa70",
   "metadata": {},
   "outputs": [
    {
     "data": {
      "text/plain": [
       "True"
      ]
     },
     "execution_count": 50,
     "metadata": {},
     "output_type": "execute_result"
    }
   ],
   "source": [
    "IsEven(22)"
   ]
  },
  {
   "cell_type": "code",
   "execution_count": 51,
   "id": "19c2c7f4",
   "metadata": {},
   "outputs": [
    {
     "data": {
      "text/plain": [
       "False"
      ]
     },
     "execution_count": 51,
     "metadata": {},
     "output_type": "execute_result"
    }
   ],
   "source": [
    "IsEven(3641)"
   ]
  },
  {
   "cell_type": "code",
   "execution_count": 52,
   "id": "78ad4491",
   "metadata": {},
   "outputs": [],
   "source": [
    "mul= lambda a,b,c,d: a*b*c*d"
   ]
  },
  {
   "cell_type": "code",
   "execution_count": 53,
   "id": "517f8796",
   "metadata": {},
   "outputs": [
    {
     "data": {
      "text/plain": [
       "3000"
      ]
     },
     "execution_count": 53,
     "metadata": {},
     "output_type": "execute_result"
    }
   ],
   "source": [
    "mul(12,5,5,10)"
   ]
  },
  {
   "cell_type": "markdown",
   "id": "92e6d17f",
   "metadata": {},
   "source": [
    "- You can make lambda functions for as many parameters you want.\n",
    "- Remember that lambda function can not be created for multiple return statements."
   ]
  },
  {
   "cell_type": "markdown",
   "id": "ef7e5067",
   "metadata": {},
   "source": [
    "# Map Function in Python"
   ]
  },
  {
   "cell_type": "markdown",
   "id": "f8a9d44c",
   "metadata": {},
   "source": [
    "    The map function in Python is a built-in function that applies a given function to all the items in an iterable (like a list, tuple, or string) and returns an iterator containing the transformed elements. It's a concise way to iterate through an iterable and perform the same operation on each element.\n",
    "\n",
    "    Here's a breakdown of how map works:\n",
    "\n",
    "Syntax:\n",
    "\n",
    "    map(function, iterable)\n",
    "\n",
    "- map: This is the built-in function.\n",
    "- function: This is the function you want to apply to each element in the iterable.\n",
    "- iterable: This is the sequence of elements (like a list, tuple, or string) that you want to iterate through.\n",
    "\n",
    "      What map Returns:\n",
    "\n",
    "- The map function doesn't directly return a list or any concrete data structure. It returns an iterator object. Iterators provide a way to access elements one at a time, which can be memory-efficient for large datasets.\n",
    "\n",
    "##### How to Use the Results:\n",
    "\n",
    "- To get the actual transformed elements, you typically use map in conjunction with other functions like list or a loop to consume the iterator and convert it into a list or process the elements one by one.\n",
    "\n",
    "Example:\n",
    "#Squaring each number in a list\n",
    "\n",
    "    numbers = [1, 2, 3, 4]\n",
    "    squared_numbers = list(map(lambda x: x * x, numbers))  # Using lambda with map\n",
    "\n",
    "    print(squared_numbers)  # Output: [1, 4, 9, 16]\n",
    "\n",
    "\n",
    "In this example:\n",
    "\n",
    "- We define a list numbers.\n",
    "- We use map with a lambda function that squares each number (x * x).\n",
    "- map returns an iterator, which we convert to a list using list.\n",
    "- The resulting list squared_numbers contains the squares of each element in the original list.\n",
    "\n",
    "Key Points:\n",
    "\n",
    "* map is lazy, meaning it doesn't actually perform the transformation until you iterate over the resulting iterator or convert it to a list.\n",
    "* It's useful for parallel processing with libraries like multiprocessing for large datasets.\n",
    "* For simple transformations, list comprehensions can sometimes be more readable than map with lambdas.\n",
    "\n",
    "Additional Notes:\n",
    "\n",
    "* You can also provide multiple iterables to map. In that case, the function will be applied element-wise, combining corresponding elements from each iterable:\n",
    "\n",
    "\n",
    "map() can be a powerful tool for concisely transforming iterables in Python. However, for complex transformations or when you need more control over the iteration process, using a loop might be more suitable."
   ]
  },
  {
   "cell_type": "code",
   "execution_count": 54,
   "id": "5e0c273d",
   "metadata": {},
   "outputs": [],
   "source": [
    "def even_or_odd(num):\n",
    "    if num%2==0:\n",
    "        return \"The number {} is Even\".format(num)\n",
    "    else:\n",
    "        return \"The number {} is Odd\".format(num)"
   ]
  },
  {
   "cell_type": "code",
   "execution_count": 55,
   "id": "109cae53",
   "metadata": {},
   "outputs": [
    {
     "data": {
      "text/plain": [
       "'The number 62 is Even'"
      ]
     },
     "execution_count": 55,
     "metadata": {},
     "output_type": "execute_result"
    }
   ],
   "source": [
    "even_or_odd(62)"
   ]
  },
  {
   "cell_type": "code",
   "execution_count": 56,
   "id": "24bede2e",
   "metadata": {},
   "outputs": [],
   "source": [
    "MyList=[55,48,21,1,7,35,64,68,22,11,14,13,11,61]"
   ]
  },
  {
   "cell_type": "code",
   "execution_count": 79,
   "id": "41662461",
   "metadata": {},
   "outputs": [
    {
     "data": {
      "text/plain": [
       "<map at 0x18204fb4130>"
      ]
     },
     "execution_count": 79,
     "metadata": {},
     "output_type": "execute_result"
    }
   ],
   "source": [
    "map(even_or_odd,MyList)\n",
    "\n",
    "\n",
    "# Here the map object has been created."
   ]
  },
  {
   "cell_type": "code",
   "execution_count": 60,
   "id": "abf0f20d",
   "metadata": {},
   "outputs": [
    {
     "data": {
      "text/plain": [
       "['The number 55 is Odd',\n",
       " 'The number 48 is Even',\n",
       " 'The number 21 is Odd',\n",
       " 'The number 1 is Odd',\n",
       " 'The number 7 is Odd',\n",
       " 'The number 35 is Odd',\n",
       " 'The number 64 is Even',\n",
       " 'The number 68 is Even',\n",
       " 'The number 22 is Even',\n",
       " 'The number 11 is Odd',\n",
       " 'The number 14 is Even',\n",
       " 'The number 13 is Odd',\n",
       " 'The number 11 is Odd',\n",
       " 'The number 61 is Odd']"
      ]
     },
     "execution_count": 60,
     "metadata": {},
     "output_type": "execute_result"
    }
   ],
   "source": [
    "list(map(even_or_odd,MyList))"
   ]
  },
  {
   "cell_type": "code",
   "execution_count": 64,
   "id": "81fe4923",
   "metadata": {},
   "outputs": [
    {
     "name": "stdout",
     "output_type": "stream",
     "text": [
      "(1, 4, 9, 16)\n"
     ]
    }
   ],
   "source": [
    "numbers = [1, 2, 3, 4]\n",
    "squared_numbers = tuple(map(lambda x: x * x, numbers))  # Using lambda with map\n",
    "\n",
    "print(squared_numbers)"
   ]
  },
  {
   "cell_type": "code",
   "execution_count": 66,
   "id": "58a3f8b6",
   "metadata": {},
   "outputs": [
    {
     "name": "stdout",
     "output_type": "stream",
     "text": [
      "['Ram is 25 years old', 'Aryan is 30 years old', 'Ravi is 22 years old']\n"
     ]
    }
   ],
   "source": [
    "names = [\"Ram\", \"Aryan\", \"Ravi\"]\n",
    "ages = [25, 30, 22]\n",
    "\n",
    "full_info = list(map(lambda name, age: f\"{name} is {age} years old\", names, ages))\n",
    "print(full_info)  \n"
   ]
  },
  {
   "cell_type": "markdown",
   "id": "81332435",
   "metadata": {},
   "source": [
    "# Filter Function "
   ]
  },
  {
   "cell_type": "markdown",
   "id": "cd73d9eb",
   "metadata": {},
   "source": [
    "    The filter function in Python is a built-in function used for filtering elements from an iterable (like a list, tuple, or string) based on a certain condition. It returns an iterator containing only the elements from the original iterable that pass the test defined by a function.\n",
    "    \n",
    "        \n"
   ]
  },
  {
   "cell_type": "code",
   "execution_count": 70,
   "id": "ca2d9830",
   "metadata": {},
   "outputs": [],
   "source": [
    "def isEven(num):\n",
    "    if num%2==0:\n",
    "        return True"
   ]
  },
  {
   "cell_type": "code",
   "execution_count": 71,
   "id": "0d256139",
   "metadata": {},
   "outputs": [
    {
     "data": {
      "text/plain": [
       "<filter at 0x18204dfce80>"
      ]
     },
     "execution_count": 71,
     "metadata": {},
     "output_type": "execute_result"
    }
   ],
   "source": [
    "filter(isEven,MyList)\n",
    "\n",
    "# At this point the memory has not been given to the filter.\n",
    "# this will be done after we type cast it.\n",
    "# Here the filter object has been created."
   ]
  },
  {
   "cell_type": "raw",
   "id": "5f2c451d",
   "metadata": {},
   "source": [
    "list(filter(isEven,MyList))"
   ]
  },
  {
   "cell_type": "markdown",
   "id": "4dc28fe7",
   "metadata": {},
   "source": [
    "It returns only the values which satisfies the condition."
   ]
  },
  {
   "cell_type": "markdown",
   "id": "1e944e3f",
   "metadata": {},
   "source": [
    "  - Sometimes list comprihension could be more better than the filter function like"
   ]
  },
  {
   "cell_type": "code",
   "execution_count": 74,
   "id": "6c413c64",
   "metadata": {},
   "outputs": [
    {
     "name": "stdout",
     "output_type": "stream",
     "text": [
      "[48, 64, 68, 22, 14]\n"
     ]
    }
   ],
   "source": [
    "even_numbers = [number for number in MyList if number % 2 == 0]\n",
    "print(even_numbers)  \n"
   ]
  },
  {
   "cell_type": "code",
   "execution_count": 75,
   "id": "8d34bfee",
   "metadata": {},
   "outputs": [
    {
     "data": {
      "text/plain": [
       "[48, 64, 68, 22, 14]"
      ]
     },
     "execution_count": 75,
     "metadata": {},
     "output_type": "execute_result"
    }
   ],
   "source": [
    "list(filter(lambda num:num %2 ==0,MyList))"
   ]
  },
  {
   "cell_type": "code",
   "execution_count": 77,
   "id": "4c0b5a44",
   "metadata": {},
   "outputs": [
    {
     "data": {
      "text/plain": [
       "[False,\n",
       " True,\n",
       " False,\n",
       " False,\n",
       " False,\n",
       " False,\n",
       " True,\n",
       " True,\n",
       " True,\n",
       " False,\n",
       " True,\n",
       " False,\n",
       " False,\n",
       " False]"
      ]
     },
     "execution_count": 77,
     "metadata": {},
     "output_type": "execute_result"
    }
   ],
   "source": [
    "list(map(lambda num:num %2 ==0,MyList))"
   ]
  },
  {
   "cell_type": "markdown",
   "id": "6fe64456",
   "metadata": {},
   "source": [
    "# List Comprehension"
   ]
  },
  {
   "cell_type": "markdown",
   "id": "70a0e080",
   "metadata": {},
   "source": [
    "List Comprehension provides a concise way to create lists. It consists of brackets containing an expression followed by a for clause, then zero or more for or if clauses. The expression can be anything, meaning you can put in all kind of objects in the list.\n",
    "\n"
   ]
  },
  {
   "cell_type": "markdown",
   "id": "bbaf72a6",
   "metadata": {},
   "source": [
    "The basic syntax is:\n",
    "\n",
    "    [ expression for item in iterable if condition ]\n"
   ]
  },
  {
   "cell_type": "code",
   "execution_count": 85,
   "id": "2c03a22d",
   "metadata": {},
   "outputs": [],
   "source": [
    "lst1=[]\n",
    "def lst_square(lst):\n",
    "    for i in lst:\n",
    "        lst1.append(i*i)\n",
    "    return lst1"
   ]
  },
  {
   "cell_type": "code",
   "execution_count": 86,
   "id": "70031b34",
   "metadata": {},
   "outputs": [
    {
     "data": {
      "text/plain": [
       "[3025, 2304, 441, 1, 49, 1225, 4096, 4624, 484, 121, 196, 169, 121, 3721]"
      ]
     },
     "execution_count": 86,
     "metadata": {},
     "output_type": "execute_result"
    }
   ],
   "source": [
    "lst_square(MyList)"
   ]
  },
  {
   "cell_type": "markdown",
   "id": "e7f57ff1",
   "metadata": {},
   "source": [
    "Performing the same using list Comprehension."
   ]
  },
  {
   "cell_type": "code",
   "execution_count": 87,
   "id": "1df91f07",
   "metadata": {},
   "outputs": [
    {
     "data": {
      "text/plain": [
       "[3025, 2304, 441, 1, 49, 1225, 4096, 4624, 484, 121, 196, 169, 121, 3721]"
      ]
     },
     "execution_count": 87,
     "metadata": {},
     "output_type": "execute_result"
    }
   ],
   "source": [
    "[i*i for i in MyList]"
   ]
  },
  {
   "cell_type": "code",
   "execution_count": 88,
   "id": "93b28b51",
   "metadata": {},
   "outputs": [],
   "source": [
    "new_list=[i*i for i in MyList]"
   ]
  },
  {
   "cell_type": "code",
   "execution_count": 89,
   "id": "530e7b25",
   "metadata": {},
   "outputs": [
    {
     "name": "stdout",
     "output_type": "stream",
     "text": [
      "[3025, 2304, 441, 1, 49, 1225, 4096, 4624, 484, 121, 196, 169, 121, 3721]\n"
     ]
    }
   ],
   "source": [
    "print(new_list)"
   ]
  },
  {
   "cell_type": "code",
   "execution_count": 91,
   "id": "61fd39ef",
   "metadata": {},
   "outputs": [
    {
     "data": {
      "text/plain": [
       "[2304, 4096, 4624, 484, 196]"
      ]
     },
     "execution_count": 91,
     "metadata": {},
     "output_type": "execute_result"
    }
   ],
   "source": [
    "# Now if we want only the square of even numbers:\n",
    "\n",
    "[i*i for i in MyList if i%2 == 0]"
   ]
  },
  {
   "cell_type": "code",
   "execution_count": 94,
   "id": "1d6a6599",
   "metadata": {},
   "outputs": [
    {
     "data": {
      "text/plain": [
       "[3025, 441, 1, 49, 1225, 121, 169, 121, 3721]"
      ]
     },
     "execution_count": 94,
     "metadata": {},
     "output_type": "execute_result"
    }
   ],
   "source": [
    "# Similarly for odd\n",
    "[i*i for i in MyList if i%2 != 0]"
   ]
  },
  {
   "cell_type": "markdown",
   "id": "299b24e3",
   "metadata": {},
   "source": [
    "# String Formatting"
   ]
  },
  {
   "cell_type": "code",
   "execution_count": 95,
   "id": "e84e857e",
   "metadata": {},
   "outputs": [],
   "source": [
    "first_name='Raj'\n",
    "last_name='Aryan'\n"
   ]
  },
  {
   "cell_type": "code",
   "execution_count": 96,
   "id": "79ceb279",
   "metadata": {},
   "outputs": [
    {
     "name": "stdout",
     "output_type": "stream",
     "text": [
      "My first name is Raj and last name is Aryan\n"
     ]
    }
   ],
   "source": [
    "print(\"My first name is {} and last name is {}\".format(first_name,last_name))\n"
   ]
  },
  {
   "cell_type": "code",
   "execution_count": 97,
   "id": "dbefe6a4",
   "metadata": {},
   "outputs": [
    {
     "name": "stdout",
     "output_type": "stream",
     "text": [
      "My First name is Raj and last name is Aryan\n"
     ]
    }
   ],
   "source": [
    "print(\"My First name is {first} and last name is {last}\".format(last=last_name,first=first_name))\n"
   ]
  },
  {
   "cell_type": "code",
   "execution_count": 98,
   "id": "9e5458c5",
   "metadata": {},
   "outputs": [
    {
     "data": {
      "text/plain": [
       "36"
      ]
     },
     "execution_count": 98,
     "metadata": {},
     "output_type": "execute_result"
    }
   ],
   "source": [
    "len('Hello and Welcome everyone over here')\n"
   ]
  },
  {
   "cell_type": "code",
   "execution_count": 99,
   "id": "c1c8660a",
   "metadata": {},
   "outputs": [
    {
     "data": {
      "text/plain": [
       "5"
      ]
     },
     "execution_count": 99,
     "metadata": {},
     "output_type": "execute_result"
    }
   ],
   "source": [
    "len('Ayye ')"
   ]
  },
  {
   "cell_type": "code",
   "execution_count": 107,
   "id": "18a95b49",
   "metadata": {},
   "outputs": [
    {
     "name": "stdout",
     "output_type": "stream",
     "text": [
      "2\n",
      "15\n",
      "59\n",
      "99\n",
      "63\n",
      "10\n",
      "1\n",
      "21\n"
     ]
    }
   ],
   "source": [
    "#List is iterable\n",
    "\n",
    "lst=[2,15,59,99,63,10,1,21]\n",
    "for i in lst:\n",
    "    print(i)"
   ]
  },
  {
   "cell_type": "code",
   "execution_count": 108,
   "id": "ca3432f8",
   "metadata": {},
   "outputs": [
    {
     "data": {
      "text/plain": [
       "<list_iterator at 0x18204f96440>"
      ]
     },
     "execution_count": 108,
     "metadata": {},
     "output_type": "execute_result"
    }
   ],
   "source": [
    "iter(lst)"
   ]
  },
  {
   "cell_type": "markdown",
   "id": "9cded783",
   "metadata": {},
   "source": [
    "In iterator not all the values are alloted the memory, it will only be alloted when we use the function next with the iterator. \n",
    "\n",
    "Because we can not see the elements as the memory is not alloted to them."
   ]
  },
  {
   "cell_type": "code",
   "execution_count": 109,
   "id": "81e4d060",
   "metadata": {},
   "outputs": [],
   "source": [
    "lst1=iter(lst)"
   ]
  },
  {
   "cell_type": "code",
   "execution_count": 110,
   "id": "9873f4d6",
   "metadata": {},
   "outputs": [
    {
     "data": {
      "text/plain": [
       "<list_iterator at 0x18204f95b70>"
      ]
     },
     "execution_count": 110,
     "metadata": {},
     "output_type": "execute_result"
    }
   ],
   "source": [
    "lst1"
   ]
  },
  {
   "cell_type": "code",
   "execution_count": 111,
   "id": "2cd64cb7",
   "metadata": {},
   "outputs": [
    {
     "data": {
      "text/plain": [
       "2"
      ]
     },
     "execution_count": 111,
     "metadata": {},
     "output_type": "execute_result"
    }
   ],
   "source": [
    "next(lst1)"
   ]
  },
  {
   "cell_type": "code",
   "execution_count": 112,
   "id": "f9f60fa6",
   "metadata": {},
   "outputs": [
    {
     "data": {
      "text/plain": [
       "15"
      ]
     },
     "execution_count": 112,
     "metadata": {},
     "output_type": "execute_result"
    }
   ],
   "source": [
    "next(lst1)"
   ]
  },
  {
   "cell_type": "code",
   "execution_count": 113,
   "id": "a323320f",
   "metadata": {},
   "outputs": [
    {
     "data": {
      "text/plain": [
       "59"
      ]
     },
     "execution_count": 113,
     "metadata": {},
     "output_type": "execute_result"
    }
   ],
   "source": [
    "next(lst1)"
   ]
  },
  {
   "cell_type": "code",
   "execution_count": 119,
   "id": "380f4b1f",
   "metadata": {},
   "outputs": [
    {
     "ename": "StopIteration",
     "evalue": "",
     "output_type": "error",
     "traceback": [
      "\u001b[1;31m---------------------------------------------------------------------------\u001b[0m",
      "\u001b[1;31mStopIteration\u001b[0m                             Traceback (most recent call last)",
      "Cell \u001b[1;32mIn[119], line 1\u001b[0m\n\u001b[1;32m----> 1\u001b[0m \u001b[38;5;28mnext\u001b[39m(lst1)\n",
      "\u001b[1;31mStopIteration\u001b[0m: "
     ]
    }
   ],
   "source": [
    "next(lst1)"
   ]
  },
  {
   "cell_type": "markdown",
   "id": "62e465d4",
   "metadata": {},
   "source": [
    "    It's main function is it does not alot the whole iterable the elements are intialised at the memory one by one."
   ]
  },
  {
   "cell_type": "markdown",
   "id": "48be7fd9",
   "metadata": {},
   "source": [
    "- Consider the situation where we have a large amount of list values and we don't need to store or save the value of complete list then we will convert the value into iterable."
   ]
  },
  {
   "cell_type": "markdown",
   "id": "98a38e37",
   "metadata": {},
   "source": [
    "-  As we go into the last element in an iterator then we will see an error but in an iterable as soon we reach the last element then the loop itself comes out and thus it explains that this exception is specifically handled.(i.e. your -- Stop Iteration Exception)"
   ]
  },
  {
   "cell_type": "code",
   "execution_count": 6,
   "id": "b6b8081e",
   "metadata": {},
   "outputs": [
    {
     "data": {
      "application/javascript": [
       "\n",
       "        if (window._pyforest_update_imports_cell) { window._pyforest_update_imports_cell('import pandas as pd\\nimport numpy as np'); }\n",
       "    "
      ],
      "text/plain": [
       "<IPython.core.display.Javascript object>"
      ]
     },
     "metadata": {},
     "output_type": "display_data"
    }
   ],
   "source": [
    "df2=pd.read_csv('df2_my.csv')"
   ]
  },
  {
   "cell_type": "code",
   "execution_count": 3,
   "id": "5c9a8a5d",
   "metadata": {},
   "outputs": [
    {
     "data": {
      "application/javascript": [
       "\n",
       "        if (window._pyforest_update_imports_cell) { window._pyforest_update_imports_cell('import pandas as pd'); }\n",
       "    "
      ],
      "text/plain": [
       "<IPython.core.display.Javascript object>"
      ]
     },
     "metadata": {},
     "output_type": "display_data"
    }
   ],
   "source": [
    "df=pd.read_csv('Mercedesbenz.csv')"
   ]
  },
  {
   "cell_type": "code",
   "execution_count": 4,
   "id": "e55e2e0b",
   "metadata": {},
   "outputs": [
    {
     "data": {
      "application/javascript": [
       "\n",
       "        if (window._pyforest_update_imports_cell) { window._pyforest_update_imports_cell('import pandas as pd\\nimport numpy as np'); }\n",
       "    "
      ],
      "text/plain": [
       "<IPython.core.display.Javascript object>"
      ]
     },
     "metadata": {},
     "output_type": "display_data"
    }
   ],
   "source": [
    "data = np.array([1, 2, 3, 4])"
   ]
  },
  {
   "cell_type": "code",
   "execution_count": 7,
   "id": "8971b934",
   "metadata": {},
   "outputs": [
    {
     "data": {
      "text/html": [
       "<div>\n",
       "<style scoped>\n",
       "    .dataframe tbody tr th:only-of-type {\n",
       "        vertical-align: middle;\n",
       "    }\n",
       "\n",
       "    .dataframe tbody tr th {\n",
       "        vertical-align: top;\n",
       "    }\n",
       "\n",
       "    .dataframe thead th {\n",
       "        text-align: right;\n",
       "    }\n",
       "</style>\n",
       "<table border=\"1\" class=\"dataframe\">\n",
       "  <thead>\n",
       "    <tr style=\"text-align: right;\">\n",
       "      <th></th>\n",
       "      <th>Unnamed: 0</th>\n",
       "      <th>C1</th>\n",
       "      <th>C2</th>\n",
       "    </tr>\n",
       "  </thead>\n",
       "  <tbody>\n",
       "    <tr>\n",
       "      <th>0</th>\n",
       "      <td>0</td>\n",
       "      <td>x</td>\n",
       "      <td>y</td>\n",
       "    </tr>\n",
       "    <tr>\n",
       "      <th>1</th>\n",
       "      <td>1</td>\n",
       "      <td>a</td>\n",
       "      <td>b</td>\n",
       "    </tr>\n",
       "    <tr>\n",
       "      <th>2</th>\n",
       "      <td>2</td>\n",
       "      <td>d</td>\n",
       "      <td>e</td>\n",
       "    </tr>\n",
       "  </tbody>\n",
       "</table>\n",
       "</div>"
      ],
      "text/plain": [
       "   Unnamed: 0 C1 C2\n",
       "0           0  x  y\n",
       "1           1  a  b\n",
       "2           2  d  e"
      ]
     },
     "execution_count": 7,
     "metadata": {},
     "output_type": "execute_result"
    }
   ],
   "source": [
    "df2"
   ]
  },
  {
   "cell_type": "markdown",
   "id": "a980b8a7",
   "metadata": {},
   "source": [
    "That was some application of Pyforest"
   ]
  },
  {
   "cell_type": "markdown",
   "id": "66196364",
   "metadata": {},
   "source": [
    "# OOPS in Python"
   ]
  },
  {
   "cell_type": "code",
   "execution_count": 8,
   "id": "1c028f41",
   "metadata": {},
   "outputs": [],
   "source": [
    "class Student:\n",
    "    pass"
   ]
  },
  {
   "cell_type": "code",
   "execution_count": 9,
   "id": "266c7d99",
   "metadata": {},
   "outputs": [],
   "source": [
    "S1=Student()"
   ]
  },
  {
   "cell_type": "code",
   "execution_count": 10,
   "id": "f452ab4c",
   "metadata": {},
   "outputs": [
    {
     "name": "stdout",
     "output_type": "stream",
     "text": [
      "<__main__.Student object at 0x000002AD87EE7490>\n"
     ]
    }
   ],
   "source": [
    "print(S1)"
   ]
  },
  {
   "cell_type": "code",
   "execution_count": 11,
   "id": "69ea10f6",
   "metadata": {},
   "outputs": [],
   "source": [
    "S2=Student()"
   ]
  },
  {
   "cell_type": "code",
   "execution_count": 12,
   "id": "de133452",
   "metadata": {},
   "outputs": [
    {
     "name": "stdout",
     "output_type": "stream",
     "text": [
      "<__main__.Student object at 0x000002AD8605E490>\n"
     ]
    }
   ],
   "source": [
    "print(S2)"
   ]
  },
  {
   "cell_type": "code",
   "execution_count": 13,
   "id": "dedc849b",
   "metadata": {},
   "outputs": [],
   "source": [
    "S1.name='Raj Aryan'"
   ]
  },
  {
   "cell_type": "code",
   "execution_count": 14,
   "id": "531f287b",
   "metadata": {},
   "outputs": [
    {
     "name": "stdout",
     "output_type": "stream",
     "text": [
      "Raj Aryan\n"
     ]
    }
   ],
   "source": [
    "print(S1.name)"
   ]
  },
  {
   "cell_type": "code",
   "execution_count": 15,
   "id": "fd8db53e",
   "metadata": {},
   "outputs": [],
   "source": [
    "S1.age=22"
   ]
  },
  {
   "cell_type": "code",
   "execution_count": 16,
   "id": "8a4ff842",
   "metadata": {},
   "outputs": [
    {
     "name": "stdout",
     "output_type": "stream",
     "text": [
      "22\n"
     ]
    }
   ],
   "source": [
    "print(S1.age)"
   ]
  },
  {
   "cell_type": "code",
   "execution_count": 17,
   "id": "da1b4c63",
   "metadata": {},
   "outputs": [],
   "source": [
    "S2=Student()"
   ]
  },
  {
   "cell_type": "code",
   "execution_count": 18,
   "id": "765858de",
   "metadata": {},
   "outputs": [],
   "source": [
    "S2.name='Ayushi'"
   ]
  },
  {
   "cell_type": "code",
   "execution_count": 19,
   "id": "e84d596e",
   "metadata": {},
   "outputs": [],
   "source": [
    "S2.age=23"
   ]
  },
  {
   "cell_type": "code",
   "execution_count": 20,
   "id": "47316ffd",
   "metadata": {},
   "outputs": [],
   "source": [
    "S2.favSub='Chemistry'"
   ]
  },
  {
   "cell_type": "code",
   "execution_count": 21,
   "id": "9f80145a",
   "metadata": {},
   "outputs": [
    {
     "name": "stdout",
     "output_type": "stream",
     "text": [
      "23\n"
     ]
    }
   ],
   "source": [
    "print(S2.age)"
   ]
  },
  {
   "cell_type": "code",
   "execution_count": 22,
   "id": "12189588",
   "metadata": {},
   "outputs": [
    {
     "name": "stdout",
     "output_type": "stream",
     "text": [
      "Chemistry\n"
     ]
    }
   ],
   "source": [
    "print(S2.favSub)"
   ]
  },
  {
   "cell_type": "markdown",
   "id": "336a621d",
   "metadata": {},
   "source": [
    "### Here we can see that we can create many number of  attributes for the objects which is a very bad approach so we will just make it right using an inbuilt function __init__  in the directory of the class. "
   ]
  },
  {
   "cell_type": "code",
   "execution_count": 24,
   "id": "0b1a8bfd",
   "metadata": {},
   "outputs": [
    {
     "data": {
      "text/plain": [
       "['__class__',\n",
       " '__delattr__',\n",
       " '__dict__',\n",
       " '__dir__',\n",
       " '__doc__',\n",
       " '__eq__',\n",
       " '__format__',\n",
       " '__ge__',\n",
       " '__getattribute__',\n",
       " '__getstate__',\n",
       " '__gt__',\n",
       " '__hash__',\n",
       " '__init__',\n",
       " '__init_subclass__',\n",
       " '__le__',\n",
       " '__lt__',\n",
       " '__module__',\n",
       " '__ne__',\n",
       " '__new__',\n",
       " '__reduce__',\n",
       " '__reduce_ex__',\n",
       " '__repr__',\n",
       " '__setattr__',\n",
       " '__sizeof__',\n",
       " '__str__',\n",
       " '__subclasshook__',\n",
       " '__weakref__',\n",
       " 'age',\n",
       " 'name']"
      ]
     },
     "execution_count": 24,
     "metadata": {},
     "output_type": "execute_result"
    }
   ],
   "source": [
    "dir(S1)"
   ]
  },
  {
   "cell_type": "markdown",
   "id": "edcc34f9",
   "metadata": {},
   "source": [
    "    So __init__ basically acts like a contructor in Python which will define how many numbers of attributes we will use.\n",
    "    \n",
    "### The __init__ method in Python\n",
    "\n",
    "\n",
    "- In Python's object-oriented programming, the __init__ method (pronounced \"dunder init\") serves a vital purpose: it's the special method that gets automatically invoked whenever you create a new object from a class. You can think of it as the constructor function, similar to what other object-oriented languages have.\n",
    "\n",
    "#### Structure and arguments:\n",
    "\n",
    "- __init__ takes at least one argument, conventionally named self. This parameter refers to the newly created object itself. It's essential for assigning values to the object's attributes.\n",
    "\n",
    "\n",
    "- You can define additional arguments (parameters) within __init__ to accept values that will be used to customize the object's attributes during creation. For instance, you might create a Car class that takes make, model, and year as arguments in __init__ to define those attributes for each Car object.\n",
    "\n",
    "The self argument is crucial for accessing and modifying the object's attributes."
   ]
  },
  {
   "cell_type": "code",
   "execution_count": 25,
   "id": "924b1ae5",
   "metadata": {},
   "outputs": [],
   "source": [
    "class Car:\n",
    "    def __init__ (self,window,door,enginetype):\n",
    "        self.w=window\n",
    "        self.d=door\n",
    "        self.et=enginetype"
   ]
  },
  {
   "cell_type": "code",
   "execution_count": 26,
   "id": "0cb5a861",
   "metadata": {},
   "outputs": [
    {
     "ename": "TypeError",
     "evalue": "Car.__init__() missing 3 required positional arguments: 'window', 'door', and 'enginetype'",
     "output_type": "error",
     "traceback": [
      "\u001b[1;31m---------------------------------------------------------------------------\u001b[0m",
      "\u001b[1;31mTypeError\u001b[0m                                 Traceback (most recent call last)",
      "Cell \u001b[1;32mIn[26], line 1\u001b[0m\n\u001b[1;32m----> 1\u001b[0m car1\u001b[38;5;241m=\u001b[39mCar()\n",
      "\u001b[1;31mTypeError\u001b[0m: Car.__init__() missing 3 required positional arguments: 'window', 'door', and 'enginetype'"
     ]
    }
   ],
   "source": [
    "car1=Car()"
   ]
  },
  {
   "cell_type": "code",
   "execution_count": 27,
   "id": "6386ab6e",
   "metadata": {},
   "outputs": [],
   "source": [
    "car1=Car(4,2,'petrol')"
   ]
  },
  {
   "cell_type": "code",
   "execution_count": 28,
   "id": "e02904c3",
   "metadata": {},
   "outputs": [
    {
     "data": {
      "text/plain": [
       "'petrol'"
      ]
     },
     "execution_count": 28,
     "metadata": {},
     "output_type": "execute_result"
    }
   ],
   "source": [
    "car1.et"
   ]
  },
  {
   "cell_type": "code",
   "execution_count": 29,
   "id": "bdadfbfa",
   "metadata": {},
   "outputs": [
    {
     "ename": "AttributeError",
     "evalue": "'Car' object has no attribute 'door'",
     "output_type": "error",
     "traceback": [
      "\u001b[1;31m---------------------------------------------------------------------------\u001b[0m",
      "\u001b[1;31mAttributeError\u001b[0m                            Traceback (most recent call last)",
      "Cell \u001b[1;32mIn[29], line 1\u001b[0m\n\u001b[1;32m----> 1\u001b[0m car1\u001b[38;5;241m.\u001b[39mdoor\n",
      "\u001b[1;31mAttributeError\u001b[0m: 'Car' object has no attribute 'door'"
     ]
    }
   ],
   "source": [
    "car1.door"
   ]
  },
  {
   "cell_type": "code",
   "execution_count": 30,
   "id": "969861b2",
   "metadata": {},
   "outputs": [
    {
     "data": {
      "text/plain": [
       "2"
      ]
     },
     "execution_count": 30,
     "metadata": {},
     "output_type": "execute_result"
    }
   ],
   "source": [
    "car1.d"
   ]
  },
  {
   "cell_type": "code",
   "execution_count": 31,
   "id": "d005dba6",
   "metadata": {},
   "outputs": [
    {
     "name": "stdout",
     "output_type": "stream",
     "text": [
      "3 5\n",
      "-2 10\n"
     ]
    }
   ],
   "source": [
    "class Point:\n",
    "    def __init__(self, x, y):\n",
    "        self.x = x\n",
    "        self.y = y\n",
    "\n",
    "# Create Point objects with different coordinates\n",
    "point1 = Point(3, 5)\n",
    "point2 = Point(-2, 10)\n",
    "\n",
    "print(point1.x, point1.y)  # Output: 3 5\n",
    "print(point2.x, point2.y)  # Output: -2 10\n"
   ]
  },
  {
   "cell_type": "markdown",
   "id": "29799fd6",
   "metadata": {},
   "source": [
    "## Methods in Python"
   ]
  },
  {
   "cell_type": "markdown",
   "id": "1a7fb518",
   "metadata": {},
   "source": [
    "Methods are functions that are associated with objects or classes. They define the behaviors or actions that these objects can perform. Methods are a fundamental concept in object-oriented programming (OOP)"
   ]
  },
  {
   "cell_type": "code",
   "execution_count": 37,
   "id": "bd48865a",
   "metadata": {},
   "outputs": [],
   "source": [
    "class myCar:\n",
    "    def __init__ (self,window,door,enginetype):\n",
    "        self.w=window\n",
    "        self.d=door\n",
    "        self.et=enginetype\n",
    "    def driving(self):\n",
    "        return \"This is a {} car.\".format(self.et)\n",
    "        "
   ]
  },
  {
   "cell_type": "code",
   "execution_count": 38,
   "id": "afc0b151",
   "metadata": {},
   "outputs": [],
   "source": [
    "car_new=myCar(4,4,'disel')"
   ]
  },
  {
   "cell_type": "code",
   "execution_count": 39,
   "id": "e32ff4b8",
   "metadata": {},
   "outputs": [
    {
     "data": {
      "text/plain": [
       "'This is a disel car.'"
      ]
     },
     "execution_count": 39,
     "metadata": {},
     "output_type": "execute_result"
    }
   ],
   "source": [
    "car_new.driving()"
   ]
  },
  {
   "cell_type": "markdown",
   "id": "4850564b",
   "metadata": {},
   "source": [
    "## Types of methods in Python:\n",
    "\n",
    "There are three main categories of methods in Python:\n",
    "\n",
    "1.  Instance methods: These are the most common type. They are associated with individual object instances and operate on the data specific to that object. The first argument (by convention named self) of an instance method implicitly refers to the object itself, allowing the method to access and modify its attributes.\n",
    "\n",
    "2.  Class methods: These are less frequently used but offer a way to define methods that are associated with the class itself rather than its instances. They are decorated with the @classmethod decorator. Class methods typically operate on class-level data or perform operations that are useful for working with the class in general.\n",
    "\n",
    "3.  Static methods: These provide utility functions that are unrelated to the object's state or the class itself. They are decorated with the @staticmethod decorator. Static methods are essentially regular functions that are included within a class for organizational purposes or to provide some helper functionality related to the class's purpose."
   ]
  },
  {
   "cell_type": "code",
   "execution_count": 51,
   "id": "0c6f7a9f",
   "metadata": {},
   "outputs": [
    {
     "name": "stdout",
     "output_type": "stream",
     "text": [
      "Hello, my name is Alice and I am 30 years old.\n",
      "Hello, my name is Bob and I am 29 years old.\n",
      "False\n",
      "True\n"
     ]
    }
   ],
   "source": [
    "class Person:\n",
    "    def __init__(self, name, age):  # Instance method for initialization\n",
    "        self.name = name\n",
    "        self.age = age\n",
    "\n",
    "    def introduce(self):  # Instance method to introduce the person\n",
    "        print(f\"Hello, my name is {self.name} and I am {self.age} years old.\")\n",
    "\n",
    "    @classmethod\n",
    "    def from_birth_year(cls, name, birth_year):  # Class method to create a Person from birth year\n",
    "        age = 2024 - birth_year\n",
    "        return cls(name, age)  # Return a new Person object\n",
    "\n",
    "    @staticmethod\n",
    "    def is_adult(age):  # Static method to check if someone is an adult\n",
    "        return age >= 18\n",
    "\n",
    "# Create Person objects\n",
    "person1 = Person(\"Alice\", 30)\n",
    "person2 = Person.from_birth_year(\"Bob\", 1995)\n",
    "\n",
    "person1.introduce()  # Output: Hello, my name is Alice and I am 30 years old.\n",
    "person2.introduce()  # Output: Hello, my name is Bob and I am 29 years old.\n",
    "\n",
    "# Call the static method directly using the class name or object reference\n",
    "print(Person.is_adult(15))  # Output: True\n",
    "print(person1.is_adult(21))  # Also works, but less common for static methods\n"
   ]
  },
  {
   "cell_type": "markdown",
   "id": "dac035e0",
   "metadata": {},
   "source": [
    "# Exception Handling\n",
    "\n",
    "Exception handling is a fundamental mechanism in programming that deals with unexpected conditions or errors that arise during the execution of a program. It allows you to gracefully handle these errors, preventing your program from crashing abruptly and potentially corrupting data.\n",
    "\n",
    "Which means it helps our code to not being interrupted or being crashed in betwwen rather that could be handled in user's way !"
   ]
  },
  {
   "cell_type": "markdown",
   "id": "4649de05",
   "metadata": {},
   "source": [
    "    Inside the try we will be writing the part of the code where the exception can occur.\n",
    "    \n",
    "    In except block we will be writing our message whcih we would be showing at the time of error."
   ]
  },
  {
   "cell_type": "code",
   "execution_count": 59,
   "id": "1d511fd7",
   "metadata": {},
   "outputs": [
    {
     "name": "stdout",
     "output_type": "stream",
     "text": [
      "Some erroe has occured\n"
     ]
    }
   ],
   "source": [
    "try:\n",
    "    ## Code where exception can occur\n",
    "    a=b\n",
    "except:\n",
    "    print(\"Some error has occured\")"
   ]
  },
  {
   "cell_type": "code",
   "execution_count": 61,
   "id": "1409a46c",
   "metadata": {},
   "outputs": [
    {
     "name": "stdout",
     "output_type": "stream",
     "text": [
      "There is a mistake in the code\n"
     ]
    }
   ],
   "source": [
    "try:\n",
    "    ## Code where exception can occur\n",
    "    10010/0\n",
    "except:\n",
    "    print(\"There is a mistake in the code\")"
   ]
  },
  {
   "cell_type": "code",
   "execution_count": 63,
   "id": "0486a514",
   "metadata": {},
   "outputs": [
    {
     "name": "stdout",
     "output_type": "stream",
     "text": [
      "name 'b' is not defined\n"
     ]
    }
   ],
   "source": [
    "try: \n",
    "    a=b\n",
    "except Exception as ex: # ex is our Alias\n",
    "    print(ex) #This prints exact the line which is error"
   ]
  },
  {
   "cell_type": "code",
   "execution_count": 64,
   "id": "449f3957",
   "metadata": {},
   "outputs": [
    {
     "ename": "NameError",
     "evalue": "name 'b' is not defined",
     "output_type": "error",
     "traceback": [
      "\u001b[1;31m---------------------------------------------------------------------------\u001b[0m",
      "\u001b[1;31mNameError\u001b[0m                                 Traceback (most recent call last)",
      "Cell \u001b[1;32mIn[64], line 1\u001b[0m\n\u001b[1;32m----> 1\u001b[0m a\u001b[38;5;241m=\u001b[39mb\n",
      "\u001b[1;31mNameError\u001b[0m: name 'b' is not defined"
     ]
    }
   ],
   "source": [
    "a=b"
   ]
  },
  {
   "cell_type": "code",
   "execution_count": 65,
   "id": "010a1608",
   "metadata": {},
   "outputs": [
    {
     "name": "stdout",
     "output_type": "stream",
     "text": [
      "There is a problem\n"
     ]
    }
   ],
   "source": [
    "# Now we need to handle particular exceptions\n",
    "try: \n",
    "    a=b\n",
    "except NameError: # ex is our Alias\n",
    "    print('There is a problem') "
   ]
  },
  {
   "cell_type": "markdown",
   "id": "31e3dd9f",
   "metadata": {},
   "source": [
    "- Always keep in mind that we will write the possible exception at the top which could occur in child rest another exception may be handled by main Exception class."
   ]
  },
  {
   "cell_type": "code",
   "execution_count": 78,
   "id": "a5a2ec8d",
   "metadata": {},
   "outputs": [
    {
     "name": "stdout",
     "output_type": "stream",
     "text": [
      "Given an undefined name\n"
     ]
    }
   ],
   "source": [
    "try:     \n",
    "    a==n\n",
    "except NameError:\n",
    "    print('Given an undefined name')\n",
    "except Exception:\n",
    "    print('Another Problem')"
   ]
  },
  {
   "cell_type": "code",
   "execution_count": 82,
   "id": "5edd77f0",
   "metadata": {},
   "outputs": [
    {
     "name": "stdout",
     "output_type": "stream",
     "text": [
      "Another Problem\n"
     ]
    }
   ],
   "source": [
    "try:     \n",
    "    25/0\n",
    "except NameError:\n",
    "    print('There is a problem') \n",
    "except Exception:\n",
    "    print('Another Problem')"
   ]
  },
  {
   "cell_type": "code",
   "execution_count": 80,
   "id": "aa1395c4",
   "metadata": {},
   "outputs": [
    {
     "name": "stdout",
     "output_type": "stream",
     "text": [
      "Another Problem\n"
     ]
    }
   ],
   "source": [
    "try:     \n",
    "    25/0\n",
    "except NameError as ex1: # ex is our Alias\n",
    "    print('There is a problem') #This prints exact the line which is error\n",
    "except Exception as ex2:\n",
    "    print('Another Problem')\n",
    "    \n",
    "    # This is another method of writing as later we could identify exceptions."
   ]
  },
  {
   "cell_type": "code",
   "execution_count": 81,
   "id": "3a4d2667",
   "metadata": {},
   "outputs": [
    {
     "name": "stdout",
     "output_type": "stream",
     "text": [
      "Another Problem\n"
     ]
    }
   ],
   "source": [
    "try:     \n",
    "    25/0\n",
    "except NameError as ex1: # ex is our Alias\n",
    "    print('There is a problem') #This prints exact the line which is error\n",
    "except Exception as ex2:\n",
    "    print('Another Problem')"
   ]
  },
  {
   "cell_type": "code",
   "execution_count": 91,
   "id": "852fac58",
   "metadata": {},
   "outputs": [
    {
     "name": "stdout",
     "output_type": "stream",
     "text": [
      "Name not defined\n",
      "This is not possible\n",
      "Something very wrong\n"
     ]
    }
   ],
   "source": [
    "def meraFun(x,y):\n",
    "    try:\n",
    "        ans=x/y \n",
    "        result=a=b\n",
    "    except NameError as ex1:\n",
    "        print('Name not defined')\n",
    "    except ZeroDivisionError as ex2:\n",
    "        print(\"This is not possible\")\n",
    "    except Exception as ex:\n",
    "        print('Something very wrong')\n",
    "    else:\n",
    "        return ans,result\n",
    "    \n",
    "meraFun(25,10)\n",
    "meraFun(25,0)\n",
    "meraFun(10,'a')"
   ]
  },
  {
   "cell_type": "code",
   "execution_count": 92,
   "id": "cf9cf9e7",
   "metadata": {},
   "outputs": [
    {
     "name": "stdout",
     "output_type": "stream",
     "text": [
      "Name not defined\n",
      "This is not possible\n",
      "The inputs have different types.\n"
     ]
    }
   ],
   "source": [
    "def meraFun(x,y):\n",
    "    try:\n",
    "        ans=x/y \n",
    "        result=a=b\n",
    "    except NameError as ex1:\n",
    "        print('Name not defined')\n",
    "    except ZeroDivisionError as ex2:\n",
    "        print(\"This is not possible\")\n",
    "    except TypeError as ex3:\n",
    "        print(\"The inputs have different types.\")\n",
    "    except Exception as ex:\n",
    "        print('Something very wrong')\n",
    "    else:\n",
    "        return ans,result\n",
    "    \n",
    "meraFun(25,10)\n",
    "meraFun(25,0)\n",
    "meraFun(10,'a')"
   ]
  },
  {
   "cell_type": "markdown",
   "id": "1e674855",
   "metadata": {},
   "source": [
    "#### Note:\n",
    "\n",
    "- You need not have to write alias if you want to have your own messages."
   ]
  },
  {
   "cell_type": "code",
   "execution_count": 93,
   "id": "8bab5d34",
   "metadata": {},
   "outputs": [
    {
     "name": "stdout",
     "output_type": "stream",
     "text": [
      "Error: Cannot divide by zero\n"
     ]
    }
   ],
   "source": [
    "def divide(x, y):\n",
    "    try:\n",
    "        result = x / y\n",
    "    except ZeroDivisionError:\n",
    "        print(\"Error: Cannot divide by zero\")\n",
    "        return None  # Indicate failure\n",
    "    else:\n",
    "        return result\n",
    "\n",
    "num1 = 10\n",
    "num2 = 0\n",
    "\n",
    "result = divide(num1, num2)\n",
    "\n",
    "if result is not None:\n",
    "    print(\"Result:\", result)\n"
   ]
  },
  {
   "cell_type": "code",
   "execution_count": 99,
   "id": "7bc5a8ca",
   "metadata": {},
   "outputs": [
    {
     "name": "stdout",
     "output_type": "stream",
     "text": [
      "Enter the number 1: 22\n",
      "Enter the number 2 :0\n",
      "Please provide number greater than 0\n"
     ]
    }
   ],
   "source": [
    "try:\n",
    "    ##code block where exception can occur\n",
    "    a=int(input(\"Enter the number 1: \"))\n",
    "    b=int(input(\"Enter the number 2 :\"))\n",
    "    c=a/b \n",
    "    d=a*b\n",
    "    e=a+b\n",
    "    \n",
    "except NameError:\n",
    "    print(\"The user have not defined the variable\")\n",
    "except ZeroDivisionError:\n",
    "    print(\"Please provide number greater than 0\")\n",
    "except TypeError:\n",
    "    print(\"Try to make the datatype similar\")\n",
    "except Exception as ex:\n",
    "    print(ex)\n",
    "else: # This is written if no exception occurs we will get this.\n",
    "    print(c)\n",
    "    print(d)\n",
    "    print(e)\n",
    "\n",
    "#External knowledge\n",
    "#finally:\n",
    "#   print('The Execution of code ends here')"
   ]
  },
  {
   "cell_type": "markdown",
   "id": "425b4c1d",
   "metadata": {},
   "source": [
    "## Custom Exception\n",
    "\n",
    "- In Python (and many other programming languages), custom exceptions allow you to create your own specialized exception classes to handle specific errors or conditions within your program. These exceptions go beyond the built-in exceptions provided by the language and cater to the unique needs of your application.\n",
    "\n",
    "- A bit of concept of inheritance is also used in this.\n"
   ]
  },
  {
   "cell_type": "code",
   "execution_count": 104,
   "id": "37833a4f",
   "metadata": {},
   "outputs": [],
   "source": [
    "class Error(Exception):\n",
    "    pass\n",
    "\n",
    "class dobException(Error):\n",
    "    pass\n",
    "\n",
    "class customgeneric(Error):\n",
    "    pass"
   ]
  },
  {
   "cell_type": "code",
   "execution_count": 109,
   "id": "715ca68a",
   "metadata": {},
   "outputs": [
    {
     "name": "stdout",
     "output_type": "stream",
     "text": [
      "Enter the year of Birth 1888\n",
      "The age is not within the range. You cannot apply for the exams\n"
     ]
    }
   ],
   "source": [
    "year=int(input(\"Enter the year of Birth \"))\n",
    "age=2024-year\n",
    "try:\n",
    "    if age<=30 & age>20:\n",
    "        print(\"The age is valid. You can apply for the exams\")\n",
    "    else:\n",
    "        raise dobException\n",
    "except dobException:\n",
    "    print(\"The age is not within the range. You cannot apply for the exams\")\n"
   ]
  },
  {
   "cell_type": "markdown",
   "id": "2158b296",
   "metadata": {},
   "source": [
    "# Encapsulation in Python\n",
    "\n",
    "Encapsulation is a fundamental principle in object-oriented programming that focuses on bundling data and the methods that operate on the data into a single unit called a class. It allows you to control the accessand visibility of the data and methods, proving a way to protect and organize your code.\n",
    "\n",
    "### Understanding Access Modifiers in General OOP:\n",
    "\n",
    "1. Public: Members (attributes and methods) declared as public are accessible from anywhere in the program, outside or inside the class.\n",
    "\n",
    "2. Private: Members declared as private are only accessible within the class itself, not from outside objects.\n",
    "\n",
    "3. Protected: Members declared as protected are accessible from within the class and subclasses (classes that inherit from the original class)."
   ]
  },
  {
   "cell_type": "code",
   "execution_count": 115,
   "id": "27784a5e",
   "metadata": {},
   "outputs": [],
   "source": [
    "### Access Modifier--->Encapsulation\n",
    "## private\n",
    "\n",
    "class Person:\n",
    "    ## constructor\n",
    "    def __init__(self,name,age):\n",
    "        self.__name=name # This is our private variable written as __<name>\n",
    "        self.__age=age\n",
    "\n",
    "    def display_info(self):\n",
    "        print(f\"The person name is {self.__name} and the age is {self.__age}\")"
   ]
  },
  {
   "cell_type": "code",
   "execution_count": 116,
   "id": "0fc5c3da",
   "metadata": {},
   "outputs": [
    {
     "name": "stdout",
     "output_type": "stream",
     "text": [
      "The person name is Raj and the age is 21\n"
     ]
    }
   ],
   "source": [
    "person=Person(\"Raj\",21)\n",
    "\n",
    "person.display_info()"
   ]
  },
  {
   "cell_type": "code",
   "execution_count": 117,
   "id": "c6cd990c",
   "metadata": {},
   "outputs": [
    {
     "ename": "AttributeError",
     "evalue": "'Person' object has no attribute '__name'",
     "output_type": "error",
     "traceback": [
      "\u001b[1;31m---------------------------------------------------------------------------\u001b[0m",
      "\u001b[1;31mAttributeError\u001b[0m                            Traceback (most recent call last)",
      "Cell \u001b[1;32mIn[117], line 1\u001b[0m\n\u001b[1;32m----> 1\u001b[0m person\u001b[38;5;241m.\u001b[39m__name\n",
      "\u001b[1;31mAttributeError\u001b[0m: 'Person' object has no attribute '__name'"
     ]
    }
   ],
   "source": [
    "person.__name"
   ]
  },
  {
   "cell_type": "markdown",
   "id": "56b8cfb8",
   "metadata": {},
   "source": [
    "We get this error because that was a private attribute which can't be accessed like this outside the class."
   ]
  },
  {
   "cell_type": "code",
   "execution_count": 118,
   "id": "204ea68a",
   "metadata": {},
   "outputs": [
    {
     "data": {
      "text/plain": [
       "['_Person__age',\n",
       " '_Person__name',\n",
       " '__class__',\n",
       " '__delattr__',\n",
       " '__dict__',\n",
       " '__dir__',\n",
       " '__doc__',\n",
       " '__eq__',\n",
       " '__format__',\n",
       " '__ge__',\n",
       " '__getattribute__',\n",
       " '__getstate__',\n",
       " '__gt__',\n",
       " '__hash__',\n",
       " '__init__',\n",
       " '__init_subclass__',\n",
       " '__le__',\n",
       " '__lt__',\n",
       " '__module__',\n",
       " '__ne__',\n",
       " '__new__',\n",
       " '__reduce__',\n",
       " '__reduce_ex__',\n",
       " '__repr__',\n",
       " '__setattr__',\n",
       " '__sizeof__',\n",
       " '__str__',\n",
       " '__subclasshook__',\n",
       " '__weakref__',\n",
       " 'display_info']"
      ]
     },
     "execution_count": 118,
     "metadata": {},
     "output_type": "execute_result"
    }
   ],
   "source": [
    "dir(person)"
   ]
  },
  {
   "cell_type": "markdown",
   "id": "96963dbe",
   "metadata": {},
   "source": [
    "    \n",
    "    \n",
    "    There is a way of accessing the the private value but shold not be used as that is not a good practise because due to that way private value could be changed which is not good !!"
   ]
  },
  {
   "cell_type": "code",
   "execution_count": 120,
   "id": "38767b68",
   "metadata": {},
   "outputs": [
    {
     "data": {
      "text/plain": [
       "'Raj'"
      ]
     },
     "execution_count": 120,
     "metadata": {},
     "output_type": "execute_result"
    }
   ],
   "source": [
    "person._Person__name"
   ]
  },
  {
   "cell_type": "code",
   "execution_count": 121,
   "id": "bc56052a",
   "metadata": {},
   "outputs": [
    {
     "data": {
      "text/plain": [
       "21"
      ]
     },
     "execution_count": 121,
     "metadata": {},
     "output_type": "execute_result"
    }
   ],
   "source": [
    "person._Person__age"
   ]
  },
  {
   "cell_type": "code",
   "execution_count": 122,
   "id": "4dd5f9b3",
   "metadata": {},
   "outputs": [],
   "source": [
    "person._Person__age = 18"
   ]
  },
  {
   "cell_type": "code",
   "execution_count": 123,
   "id": "ef00e4e6",
   "metadata": {},
   "outputs": [
    {
     "data": {
      "text/plain": [
       "18"
      ]
     },
     "execution_count": 123,
     "metadata": {},
     "output_type": "execute_result"
    }
   ],
   "source": [
    "person._Person__age"
   ]
  },
  {
   "cell_type": "markdown",
   "id": "12399c3d",
   "metadata": {},
   "source": [
    "### ❌ This is not a good practise. ❌"
   ]
  },
  {
   "cell_type": "code",
   "execution_count": 124,
   "id": "6b58ee9f",
   "metadata": {},
   "outputs": [],
   "source": [
    "### Access Modifier--->Encapsulation\n",
    "## Protected \n",
    "\n",
    "class Person:\n",
    "    ## constructor\n",
    "    def __init__(self,name,age):\n",
    "        self._name=name\n",
    "        self._age=age"
   ]
  },
  {
   "cell_type": "code",
   "execution_count": 127,
   "id": "851dd1c0",
   "metadata": {},
   "outputs": [],
   "source": [
    "person=Person(\"Raj\",25)\n"
   ]
  },
  {
   "cell_type": "code",
   "execution_count": 128,
   "id": "1850c7cb",
   "metadata": {},
   "outputs": [
    {
     "data": {
      "text/plain": [
       "['__class__',\n",
       " '__delattr__',\n",
       " '__dict__',\n",
       " '__dir__',\n",
       " '__doc__',\n",
       " '__eq__',\n",
       " '__format__',\n",
       " '__ge__',\n",
       " '__getattribute__',\n",
       " '__getstate__',\n",
       " '__gt__',\n",
       " '__hash__',\n",
       " '__init__',\n",
       " '__init_subclass__',\n",
       " '__le__',\n",
       " '__lt__',\n",
       " '__module__',\n",
       " '__ne__',\n",
       " '__new__',\n",
       " '__reduce__',\n",
       " '__reduce_ex__',\n",
       " '__repr__',\n",
       " '__setattr__',\n",
       " '__sizeof__',\n",
       " '__str__',\n",
       " '__subclasshook__',\n",
       " '__weakref__',\n",
       " '_age',\n",
       " '_name']"
      ]
     },
     "execution_count": 128,
     "metadata": {},
     "output_type": "execute_result"
    }
   ],
   "source": [
    "dir(person)"
   ]
  },
  {
   "cell_type": "code",
   "execution_count": 129,
   "id": "52e5ab5e",
   "metadata": {},
   "outputs": [
    {
     "data": {
      "text/plain": [
       "25"
      ]
     },
     "execution_count": 129,
     "metadata": {},
     "output_type": "execute_result"
    }
   ],
   "source": [
    "person._age"
   ]
  },
  {
   "cell_type": "markdown",
   "id": "a8377f63",
   "metadata": {},
   "source": [
    "Python does tells us to do anything compulsary but it says to follow a best practise and use protected under derrived class as you choose and defined it as _[something]"
   ]
  },
  {
   "cell_type": "code",
   "execution_count": 139,
   "id": "cce4460d",
   "metadata": {},
   "outputs": [],
   "source": [
    " # Protected access modifier\n",
    "class Student(Person):\n",
    "    def __init__(self,name,age):\n",
    "        super().__init__(name,age)\n",
    "\n",
    "    def display_info(self):\n",
    "        print(f\"The person name is {self._name} and the age is {self._age}\")\n"
   ]
  },
  {
   "cell_type": "code",
   "execution_count": 140,
   "id": "97211bcc",
   "metadata": {},
   "outputs": [],
   "source": [
    "student1=Student('Aryan',21)"
   ]
  },
  {
   "cell_type": "code",
   "execution_count": 141,
   "id": "1058233b",
   "metadata": {},
   "outputs": [
    {
     "name": "stdout",
     "output_type": "stream",
     "text": [
      "The person name is Aryan and the age is 21\n"
     ]
    }
   ],
   "source": [
    "student1.display_info()"
   ]
  },
  {
   "cell_type": "markdown",
   "id": "c0a1ecf7",
   "metadata": {},
   "source": [
    "## Python OOPS- Inheritance"
   ]
  },
  {
   "cell_type": "code",
   "execution_count": 142,
   "id": "5e9501d2",
   "metadata": {},
   "outputs": [],
   "source": [
    "### All the class variables are public\n",
    "### Car Blueprint\n",
    "class Car():\n",
    "    def __init__(self,windows,doors,enginetype):\n",
    "        self.windows=windows\n",
    "        self.doors=doors\n",
    "        self.enginetype=enginetype\n",
    "    def drive(self):\n",
    "        print(\"The Person drives the car\")\n",
    "    "
   ]
  },
  {
   "cell_type": "code",
   "execution_count": 143,
   "id": "bdecaf1c",
   "metadata": {},
   "outputs": [],
   "source": [
    "myCar=Car(2,4,'electric')\n",
    "myCar2=Car(4,5,'disel')"
   ]
  },
  {
   "cell_type": "code",
   "execution_count": 144,
   "id": "72b19da9",
   "metadata": {},
   "outputs": [
    {
     "data": {
      "text/plain": [
       "2"
      ]
     },
     "execution_count": 144,
     "metadata": {},
     "output_type": "execute_result"
    }
   ],
   "source": [
    "myCar.windows"
   ]
  },
  {
   "cell_type": "code",
   "execution_count": 145,
   "id": "20a1be64",
   "metadata": {},
   "outputs": [
    {
     "data": {
      "text/plain": [
       "'disel'"
      ]
     },
     "execution_count": 145,
     "metadata": {},
     "output_type": "execute_result"
    }
   ],
   "source": [
    "myCar2.enginetype"
   ]
  },
  {
   "cell_type": "code",
   "execution_count": 147,
   "id": "b2360a55",
   "metadata": {},
   "outputs": [
    {
     "data": {
      "text/plain": [
       "<bound method Car.drive of <__main__.Car object at 0x000002AD880584D0>>"
      ]
     },
     "execution_count": 147,
     "metadata": {},
     "output_type": "execute_result"
    }
   ],
   "source": [
    "myCar.drive #This tells the location where this is made"
   ]
  },
  {
   "cell_type": "code",
   "execution_count": 148,
   "id": "3009ebeb",
   "metadata": {},
   "outputs": [
    {
     "name": "stdout",
     "output_type": "stream",
     "text": [
      "The Person drives the car\n"
     ]
    }
   ],
   "source": [
    "myCar.drive()"
   ]
  },
  {
   "cell_type": "code",
   "execution_count": 149,
   "id": "2eb8afa0",
   "metadata": {},
   "outputs": [],
   "source": [
    "class audi(Car):\n",
    "    def __init__(self,windows,doors,enginetype,enableai):\n",
    "        super().__init__(windows,doors,enginetype)\n",
    "        self.enableai=enableai\n",
    "    def selfdriving(self):\n",
    "        print(\"Audi supports Self driving\")\n",
    "        "
   ]
  },
  {
   "cell_type": "code",
   "execution_count": 150,
   "id": "611281f7",
   "metadata": {},
   "outputs": [],
   "source": [
    "audi1=audi(2,5,'Electric',False)"
   ]
  },
  {
   "cell_type": "code",
   "execution_count": 151,
   "id": "0f3b3b7a",
   "metadata": {},
   "outputs": [
    {
     "name": "stdout",
     "output_type": "stream",
     "text": [
      "Audi supports Self driving\n"
     ]
    }
   ],
   "source": [
    "audi1.selfdriving()"
   ]
  },
  {
   "cell_type": "code",
   "execution_count": 153,
   "id": "3437812b",
   "metadata": {},
   "outputs": [],
   "source": [
    "audiQ7=audi(5,5,\"diesel\",True)"
   ]
  },
  {
   "cell_type": "code",
   "execution_count": 154,
   "id": "73fc5bed",
   "metadata": {},
   "outputs": [
    {
     "data": {
      "text/plain": [
       "5"
      ]
     },
     "execution_count": 154,
     "metadata": {},
     "output_type": "execute_result"
    }
   ],
   "source": [
    "audiQ7.doors"
   ]
  },
  {
   "cell_type": "code",
   "execution_count": 155,
   "id": "b34e48cb",
   "metadata": {},
   "outputs": [
    {
     "name": "stdout",
     "output_type": "stream",
     "text": [
      "Audi supports Self driving\n"
     ]
    }
   ],
   "source": [
    "audiQ7.selfdriving()"
   ]
  },
  {
   "cell_type": "markdown",
   "id": "89a1d8de",
   "metadata": {},
   "source": [
    "Here we see how the function 'selfdriving' inherits the parent class as taking self as a parameter."
   ]
  },
  {
   "cell_type": "markdown",
   "id": "94f60f0f",
   "metadata": {},
   "source": [
    "## Magic Methods in Python\n",
    "\n",
    "    First of all we should know that as we are performing dir(<function name>), to get the directory of the particular method or function and there we can see at end all the access modifiers and methods we have created in the form of a list but apart from those rest are called as the \" MAGIC METHODS \"..\n",
    "    \n",
    "    \n",
    " Why are they called so and what are it's uses we will be discussing now."
   ]
  },
  {
   "cell_type": "code",
   "execution_count": 89,
   "id": "d222ceca",
   "metadata": {},
   "outputs": [],
   "source": [
    "class Student():\n",
    "    def __init__(self,roll_no,marks,fav_sub):\n",
    "        self.roll=roll_no\n",
    "        self.mark=marks\n",
    "        self.sub=fav_sub\n",
    "    \n",
    "    def isPass(self):\n",
    "        if self.mark > 35:\n",
    "            print(\"Roll number {} has Passed.!!\".format(self.roll))\n",
    "        else:\n",
    "            print('Failed')"
   ]
  },
  {
   "cell_type": "code",
   "execution_count": 90,
   "id": "98be1c62",
   "metadata": {},
   "outputs": [],
   "source": [
    "Ravi=Student(22,38,'Science')"
   ]
  },
  {
   "cell_type": "code",
   "execution_count": 91,
   "id": "506c9d6b",
   "metadata": {},
   "outputs": [],
   "source": [
    "Kumar=Student(4,9,'Sanskrit')"
   ]
  },
  {
   "cell_type": "code",
   "execution_count": 92,
   "id": "62a7e125",
   "metadata": {},
   "outputs": [
    {
     "data": {
      "text/plain": [
       "'Science'"
      ]
     },
     "execution_count": 92,
     "metadata": {},
     "output_type": "execute_result"
    }
   ],
   "source": [
    "Ravi.sub"
   ]
  },
  {
   "cell_type": "code",
   "execution_count": 93,
   "id": "43fb5a6d",
   "metadata": {},
   "outputs": [
    {
     "name": "stdout",
     "output_type": "stream",
     "text": [
      "Roll number 22 has Passed.!!\n"
     ]
    }
   ],
   "source": [
    "Ravi.isPass()"
   ]
  },
  {
   "cell_type": "code",
   "execution_count": 94,
   "id": "7ba32553",
   "metadata": {},
   "outputs": [
    {
     "data": {
      "text/plain": [
       "38"
      ]
     },
     "execution_count": 94,
     "metadata": {},
     "output_type": "execute_result"
    }
   ],
   "source": [
    "Ravi.mark"
   ]
  },
  {
   "cell_type": "code",
   "execution_count": 95,
   "id": "b43991fc",
   "metadata": {},
   "outputs": [
    {
     "name": "stdout",
     "output_type": "stream",
     "text": [
      "Failed\n"
     ]
    }
   ],
   "source": [
    "Kumar.isPass()"
   ]
  },
  {
   "cell_type": "markdown",
   "id": "dfc559fb",
   "metadata": {},
   "source": [
    "    So this was a normal execution of the code using the Inheritance."
   ]
  },
  {
   "cell_type": "code",
   "execution_count": 96,
   "id": "d7a9c0fc",
   "metadata": {},
   "outputs": [
    {
     "data": {
      "text/plain": [
       "['__class__',\n",
       " '__delattr__',\n",
       " '__dict__',\n",
       " '__dir__',\n",
       " '__doc__',\n",
       " '__eq__',\n",
       " '__format__',\n",
       " '__ge__',\n",
       " '__getattribute__',\n",
       " '__getstate__',\n",
       " '__gt__',\n",
       " '__hash__',\n",
       " '__init__',\n",
       " '__init_subclass__',\n",
       " '__le__',\n",
       " '__lt__',\n",
       " '__module__',\n",
       " '__ne__',\n",
       " '__new__',\n",
       " '__reduce__',\n",
       " '__reduce_ex__',\n",
       " '__repr__',\n",
       " '__setattr__',\n",
       " '__sizeof__',\n",
       " '__str__',\n",
       " '__subclasshook__',\n",
       " '__weakref__',\n",
       " 'isPass']"
      ]
     },
     "execution_count": 96,
     "metadata": {},
     "output_type": "execute_result"
    }
   ],
   "source": [
    "dir(Student)"
   ]
  },
  {
   "cell_type": "markdown",
   "id": "beb9e9c1",
   "metadata": {},
   "source": [
    "We can see many Magic Methods[dunder methods] over there we'll be using them now !!"
   ]
  },
  {
   "cell_type": "code",
   "execution_count": 138,
   "id": "e90d80bb",
   "metadata": {},
   "outputs": [],
   "source": [
    "class StudentList():\n",
    "   \n",
    "    def __init__(self,name,roll_no,marks,fav_sub):\n",
    "        self.name=name\n",
    "        self.roll=roll_no\n",
    "        self.mark=marks\n",
    "        self.sub=fav_sub \n",
    "    def __str__(self):\n",
    "        return 'Object has been initialized.'\n",
    "    def __sizeof__(self):\n",
    "        return 'This function returns Size'\n",
    "    def isPass(self):\n",
    "        if self.mark > 35:\n",
    "            print(\"{} with roll number {} has Passed !!\".format(self.name,self.roll))\n",
    "        else:\n",
    "            print('Failed')"
   ]
  },
  {
   "cell_type": "code",
   "execution_count": 139,
   "id": "47b92f0e",
   "metadata": {},
   "outputs": [],
   "source": [
    "S1=StudentList('Raj',4,94,'Data Science')"
   ]
  },
  {
   "cell_type": "code",
   "execution_count": 140,
   "id": "e5c65d23",
   "metadata": {},
   "outputs": [
    {
     "data": {
      "text/plain": [
       "<__main__.StudentList at 0x17c82f398d0>"
      ]
     },
     "execution_count": 140,
     "metadata": {},
     "output_type": "execute_result"
    }
   ],
   "source": [
    "S1"
   ]
  },
  {
   "cell_type": "code",
   "execution_count": 141,
   "id": "8823e163",
   "metadata": {},
   "outputs": [
    {
     "name": "stdout",
     "output_type": "stream",
     "text": [
      "Object has been initialized.\n"
     ]
    }
   ],
   "source": [
    "print(S1)"
   ]
  },
  {
   "cell_type": "code",
   "execution_count": 142,
   "id": "9f4b19dc",
   "metadata": {},
   "outputs": [
    {
     "data": {
      "text/plain": [
       "94"
      ]
     },
     "execution_count": 142,
     "metadata": {},
     "output_type": "execute_result"
    }
   ],
   "source": [
    "S1.mark"
   ]
  },
  {
   "cell_type": "code",
   "execution_count": 143,
   "id": "eafef78e",
   "metadata": {},
   "outputs": [
    {
     "name": "stdout",
     "output_type": "stream",
     "text": [
      "Raj with roll number 4 has Passed !!\n"
     ]
    }
   ],
   "source": [
    "S1.isPass()"
   ]
  },
  {
   "cell_type": "code",
   "execution_count": 144,
   "id": "25ccfb7e",
   "metadata": {},
   "outputs": [],
   "source": [
    "S2=StudentList('Ayushi',47,98,'AI')"
   ]
  },
  {
   "cell_type": "code",
   "execution_count": 145,
   "id": "d807104b",
   "metadata": {},
   "outputs": [
    {
     "name": "stdout",
     "output_type": "stream",
     "text": [
      "Object has been initialized.\n"
     ]
    }
   ],
   "source": [
    "print(S2)"
   ]
  },
  {
   "cell_type": "code",
   "execution_count": 146,
   "id": "b4fa2222",
   "metadata": {},
   "outputs": [
    {
     "data": {
      "text/plain": [
       "'This function returns Size'"
      ]
     },
     "execution_count": 146,
     "metadata": {},
     "output_type": "execute_result"
    }
   ],
   "source": [
    "S1.__sizeof__()"
   ]
  },
  {
   "cell_type": "code",
   "execution_count": 147,
   "id": "7d8e5e79",
   "metadata": {},
   "outputs": [
    {
     "data": {
      "text/plain": [
       "['__class__',\n",
       " '__delattr__',\n",
       " '__dict__',\n",
       " '__dir__',\n",
       " '__doc__',\n",
       " '__eq__',\n",
       " '__format__',\n",
       " '__ge__',\n",
       " '__getattribute__',\n",
       " '__getstate__',\n",
       " '__gt__',\n",
       " '__hash__',\n",
       " '__init__',\n",
       " '__init_subclass__',\n",
       " '__le__',\n",
       " '__lt__',\n",
       " '__module__',\n",
       " '__ne__',\n",
       " '__new__',\n",
       " '__reduce__',\n",
       " '__reduce_ex__',\n",
       " '__repr__',\n",
       " '__setattr__',\n",
       " '__sizeof__',\n",
       " '__str__',\n",
       " '__subclasshook__',\n",
       " '__weakref__',\n",
       " 'isPass',\n",
       " 'mark',\n",
       " 'name',\n",
       " 'roll',\n",
       " 'sub']"
      ]
     },
     "execution_count": 147,
     "metadata": {},
     "output_type": "execute_result"
    }
   ],
   "source": [
    "dir(S1)"
   ]
  },
  {
   "cell_type": "code",
   "execution_count": 149,
   "id": "e3df47f0",
   "metadata": {},
   "outputs": [
    {
     "data": {
      "text/plain": [
       "'This function returns Size'"
      ]
     },
     "execution_count": 149,
     "metadata": {},
     "output_type": "execute_result"
    }
   ],
   "source": [
    "S2.__sizeof__()"
   ]
  },
  {
   "cell_type": "code",
   "execution_count": 150,
   "id": "3f3a9630",
   "metadata": {},
   "outputs": [
    {
     "data": {
      "text/plain": [
       "'Ayushi'"
      ]
     },
     "execution_count": 150,
     "metadata": {},
     "output_type": "execute_result"
    }
   ],
   "source": [
    "S2.name"
   ]
  },
  {
   "cell_type": "code",
   "execution_count": 173,
   "id": "0dfcfccc",
   "metadata": {},
   "outputs": [],
   "source": [
    "class Car():\n",
    "    #def __new__(self,windows,doors,enginetype):\n",
    "     #   print(\"The object has started getting initialized\")\n",
    "    def __init__(self,windows,doors,enginetype):\n",
    "        self.windows=windows\n",
    "        self.doors=doors\n",
    "        self.enginetype=enginetype\n",
    "    def __str__(self):\n",
    "        return \"The object has been initialized\"\n",
    "    def __sizeof__(self):\n",
    "        return \"This displays size of the object\"\n",
    "    def drive(self):\n",
    "        print(\"The Person drives the car\")\n"
   ]
  },
  {
   "cell_type": "code",
   "execution_count": 174,
   "id": "73f3a573",
   "metadata": {},
   "outputs": [],
   "source": [
    "c=Car(4,5,\"Diesel\")"
   ]
  },
  {
   "cell_type": "code",
   "execution_count": 175,
   "id": "613bb9fe",
   "metadata": {},
   "outputs": [
    {
     "name": "stdout",
     "output_type": "stream",
     "text": [
      "The object has been initialized\n"
     ]
    }
   ],
   "source": [
    "print(c)"
   ]
  },
  {
   "cell_type": "code",
   "execution_count": 176,
   "id": "a1e2aba6",
   "metadata": {},
   "outputs": [],
   "source": [
    "#In Latest update this __new__ does not function."
   ]
  },
  {
   "cell_type": "code",
   "execution_count": 177,
   "id": "57cf92e2",
   "metadata": {},
   "outputs": [
    {
     "data": {
      "text/plain": [
       "'This displays size of the object'"
      ]
     },
     "execution_count": 177,
     "metadata": {},
     "output_type": "execute_result"
    }
   ],
   "source": [
    "c.__sizeof__()"
   ]
  },
  {
   "cell_type": "code",
   "execution_count": 179,
   "id": "1dc0c7be",
   "metadata": {},
   "outputs": [
    {
     "name": "stdout",
     "output_type": "stream",
     "text": [
      "The Person drives the car\n"
     ]
    }
   ],
   "source": [
    "c.drive() #when not keeping the __name__ function"
   ]
  },
  {
   "cell_type": "code",
   "execution_count": 180,
   "id": "2e8d959f",
   "metadata": {},
   "outputs": [
    {
     "name": "stdout",
     "output_type": "stream",
     "text": [
      "The Person drives the car\n"
     ]
    }
   ],
   "source": [
    "c.drive()"
   ]
  },
  {
   "cell_type": "markdown",
   "id": "2ac4334f",
   "metadata": {},
   "source": [
    "## Python Asssert"
   ]
  },
  {
   "cell_type": "markdown",
   "id": "4aec1ea9",
   "metadata": {},
   "source": [
    "\n",
    "- Python provides the assert statement to check if a given local expression is true or false. \n",
    "- Program execution proceeds only if the expression is true and raises the AssertionError when it is false.\n"
   ]
  },
  {
   "cell_type": "code",
   "execution_count": 181,
   "id": "cebc13dd",
   "metadata": {},
   "outputs": [
    {
     "data": {
      "text/plain": [
       "False"
      ]
     },
     "execution_count": 181,
     "metadata": {},
     "output_type": "execute_result"
    }
   ],
   "source": [
    "1212>45455"
   ]
  },
  {
   "cell_type": "code",
   "execution_count": 182,
   "id": "ce16d15b",
   "metadata": {},
   "outputs": [
    {
     "data": {
      "text/plain": [
       "True"
      ]
     },
     "execution_count": 182,
     "metadata": {},
     "output_type": "execute_result"
    }
   ],
   "source": [
    "1111<24484"
   ]
  },
  {
   "cell_type": "code",
   "execution_count": 184,
   "id": "8df48c41",
   "metadata": {},
   "outputs": [],
   "source": [
    "num = 25\n",
    "assert num>=25"
   ]
  },
  {
   "cell_type": "code",
   "execution_count": 185,
   "id": "6f548d48",
   "metadata": {},
   "outputs": [
    {
     "ename": "AssertionError",
     "evalue": "",
     "output_type": "error",
     "traceback": [
      "\u001b[1;31m---------------------------------------------------------------------------\u001b[0m",
      "\u001b[1;31mAssertionError\u001b[0m                            Traceback (most recent call last)",
      "Cell \u001b[1;32mIn[185], line 2\u001b[0m\n\u001b[0;32m      1\u001b[0m num1\u001b[38;5;241m=\u001b[39m\u001b[38;5;241m20\u001b[39m\n\u001b[1;32m----> 2\u001b[0m \u001b[38;5;28;01massert\u001b[39;00m num\u001b[38;5;241m>\u001b[39m\u001b[38;5;241m25\u001b[39m\n",
      "\u001b[1;31mAssertionError\u001b[0m: "
     ]
    }
   ],
   "source": [
    "num1=20\n",
    "assert num>25"
   ]
  },
  {
   "cell_type": "code",
   "execution_count": 187,
   "id": "7d834dc2",
   "metadata": {},
   "outputs": [
    {
     "name": "stdout",
     "output_type": "stream",
     "text": [
      "The statement is not satisfied\n"
     ]
    }
   ],
   "source": [
    "num=50\n",
    "try:\n",
    "    assert num>50\n",
    "except AssertionError:\n",
    "     print('The statement is not satisfied')"
   ]
  },
  {
   "cell_type": "markdown",
   "id": "17184e45",
   "metadata": {},
   "source": [
    "## Python Generator vs Iterator"
   ]
  },
  {
   "cell_type": "code",
   "execution_count": 188,
   "id": "588d2f93",
   "metadata": {},
   "outputs": [
    {
     "name": "stdout",
     "output_type": "stream",
     "text": [
      "1\n",
      "2\n",
      "3\n",
      "4\n"
     ]
    }
   ],
   "source": [
    "lst=[1,2,3,4]\n",
    "for i in lst:\n",
    "    print(i)"
   ]
  },
  {
   "cell_type": "code",
   "execution_count": 189,
   "id": "6eea0699",
   "metadata": {},
   "outputs": [],
   "source": [
    "#As we are able to iterate over the list so it a iterable.\n",
    "\n",
    "iterable=iter(lst)"
   ]
  },
  {
   "cell_type": "code",
   "execution_count": 190,
   "id": "bc592c1c",
   "metadata": {},
   "outputs": [
    {
     "data": {
      "text/plain": [
       "list_iterator"
      ]
     },
     "execution_count": 190,
     "metadata": {},
     "output_type": "execute_result"
    }
   ],
   "source": [
    "type(iterable)"
   ]
  },
  {
   "cell_type": "code",
   "execution_count": 191,
   "id": "4346ced9",
   "metadata": {},
   "outputs": [
    {
     "data": {
      "text/plain": [
       "1"
      ]
     },
     "execution_count": 191,
     "metadata": {},
     "output_type": "execute_result"
    }
   ],
   "source": [
    "next(iterable)"
   ]
  },
  {
   "cell_type": "code",
   "execution_count": 192,
   "id": "75672058",
   "metadata": {},
   "outputs": [
    {
     "data": {
      "text/plain": [
       "2"
      ]
     },
     "execution_count": 192,
     "metadata": {},
     "output_type": "execute_result"
    }
   ],
   "source": [
    "next(iterable)"
   ]
  },
  {
   "cell_type": "code",
   "execution_count": 194,
   "id": "961e42c8",
   "metadata": {},
   "outputs": [
    {
     "data": {
      "text/plain": [
       "4"
      ]
     },
     "execution_count": 194,
     "metadata": {},
     "output_type": "execute_result"
    }
   ],
   "source": [
    "next(iterable)"
   ]
  },
  {
   "cell_type": "code",
   "execution_count": 195,
   "id": "41aa2987",
   "metadata": {},
   "outputs": [
    {
     "ename": "StopIteration",
     "evalue": "",
     "output_type": "error",
     "traceback": [
      "\u001b[1;31m---------------------------------------------------------------------------\u001b[0m",
      "\u001b[1;31mStopIteration\u001b[0m                             Traceback (most recent call last)",
      "Cell \u001b[1;32mIn[195], line 1\u001b[0m\n\u001b[1;32m----> 1\u001b[0m \u001b[38;5;28mnext\u001b[39m(iterable)\n",
      "\u001b[1;31mStopIteration\u001b[0m: "
     ]
    }
   ],
   "source": [
    "next(iterable)"
   ]
  },
  {
   "cell_type": "code",
   "execution_count": 196,
   "id": "2654c56e",
   "metadata": {},
   "outputs": [
    {
     "name": "stdout",
     "output_type": "stream",
     "text": [
      "No more values in the iterator\n"
     ]
    }
   ],
   "source": [
    "try:\n",
    "    next(iterable)\n",
    "except StopIteration:\n",
    "    print(\"No more values in the iterator\")"
   ]
  },
  {
   "cell_type": "markdown",
   "id": "fd0ea60b",
   "metadata": {},
   "source": [
    "## Generators\n",
    "\n",
    "The yield keyword in Python is the backbone of creating generators. Here's a detailed explanation of its use:\n",
    "\n",
    "##### Functionality:\n",
    "\n",
    "1. Pausing Execution: When you encounter yield within a function, it pauses the function's execution and returns a generator object to the caller. This object holds the function's current state, including variable bindings and the line where it yielded.\n",
    "\n",
    "2. Resuming Execution: When you iterate over the generator object using a for loop or other iterator methods, the function resumes execution from the point where it yielded. It picks up its state from the generator object and continues processing.\n",
    "\n",
    "\n",
    "##### Key Points:\n",
    "\n",
    "1. Multiple Values: Unlike return which provides a single output, yield allows a function to generate a sequence of values, one at a time. You can have multiple yield statements within a function to produce the sequence.\n",
    "\n",
    "2. Memory Efficiency: Generators are memory-efficient because they don't create the entire sequence upfront. They calculate and yield values only when needed during iteration, making them suitable for large datasets.\n",
    "\n",
    "3. State Preservation: The yield keyword essentially allows the function to remember its state between pauses. This is crucial because when you iterate over the generator, the function resumes from the exact point where it yielded previously."
   ]
  },
  {
   "cell_type": "code",
   "execution_count": 197,
   "id": "14128214",
   "metadata": {},
   "outputs": [],
   "source": [
    "def square(n):\n",
    "    for i in range(n):\n",
    "        yield i**2"
   ]
  },
  {
   "cell_type": "markdown",
   "id": "729ce5ca",
   "metadata": {},
   "source": [
    "    Basically 'yield' is a generator that will make the square function an iterator. "
   ]
  },
  {
   "cell_type": "code",
   "execution_count": 208,
   "id": "2ee8d472",
   "metadata": {},
   "outputs": [
    {
     "data": {
      "text/plain": [
       "<generator object square at 0x0000017C82ECDB10>"
      ]
     },
     "execution_count": 208,
     "metadata": {},
     "output_type": "execute_result"
    }
   ],
   "source": [
    "square(5)"
   ]
  },
  {
   "cell_type": "code",
   "execution_count": 209,
   "id": "e4963d11",
   "metadata": {},
   "outputs": [],
   "source": [
    "ans=square(5)"
   ]
  },
  {
   "cell_type": "code",
   "execution_count": 210,
   "id": "a9dfa84c",
   "metadata": {},
   "outputs": [
    {
     "data": {
      "text/plain": [
       "0"
      ]
     },
     "execution_count": 210,
     "metadata": {},
     "output_type": "execute_result"
    }
   ],
   "source": [
    "next(ans)\n"
   ]
  },
  {
   "cell_type": "code",
   "execution_count": 211,
   "id": "d3f1636d",
   "metadata": {},
   "outputs": [
    {
     "data": {
      "text/plain": [
       "1"
      ]
     },
     "execution_count": 211,
     "metadata": {},
     "output_type": "execute_result"
    }
   ],
   "source": [
    "next(ans)"
   ]
  },
  {
   "cell_type": "code",
   "execution_count": 212,
   "id": "df026fe6",
   "metadata": {},
   "outputs": [
    {
     "data": {
      "text/plain": [
       "4"
      ]
     },
     "execution_count": 212,
     "metadata": {},
     "output_type": "execute_result"
    }
   ],
   "source": [
    "next(ans)"
   ]
  },
  {
   "cell_type": "code",
   "execution_count": 213,
   "id": "14631a24",
   "metadata": {},
   "outputs": [
    {
     "name": "stdout",
     "output_type": "stream",
     "text": [
      "0\n",
      "1\n",
      "1\n",
      "2\n",
      "3\n",
      "5\n",
      "8\n",
      "13\n",
      "21\n",
      "34\n"
     ]
    }
   ],
   "source": [
    "def fibonacci(n):\n",
    "  \"\"\"Generates the first n Fibonacci numbers.\"\"\"\n",
    "  a, b = 0, 1\n",
    "  for _ in range(n):\n",
    "    yield a\n",
    "    a, b = b, a + b\n",
    "\n",
    "# Usage: Iterate over the generator to get Fibonacci numbers\n",
    "for num in fibonacci(10):\n",
    "  print(num)\n"
   ]
  },
  {
   "cell_type": "markdown",
   "id": "caa76149",
   "metadata": {},
   "source": [
    "### Difference\n",
    "1. To create iterator we use iter() and to generator we use function along with yield keyword.\n",
    "2. Generator uses the yield keyword. It saves the local variable.\n",
    "3. Generator in python helps us top write fast and compact code.\n",
    "4. Python iterator is much more memory efficient."
   ]
  },
  {
   "cell_type": "markdown",
   "id": "ed454f14",
   "metadata": {},
   "source": [
    "## issubclass() \n",
    "\n",
    "- issubclass() is a built-in function used to determine if a class is a subclass (derived class) of another class.\n",
    "- In object-oriented programming, a subclass inherits properties and methods from its parent class (also called base class).\n",
    "\n",
    "        issubclass(class, classinfo)\n"
   ]
  },
  {
   "cell_type": "code",
   "execution_count": 215,
   "id": "2fadff89",
   "metadata": {},
   "outputs": [
    {
     "data": {
      "text/plain": [
       "False"
      ]
     },
     "execution_count": 215,
     "metadata": {},
     "output_type": "execute_result"
    }
   ],
   "source": [
    "issubclass(Car,Student)"
   ]
  },
  {
   "cell_type": "code",
   "execution_count": 221,
   "id": "347b2d47",
   "metadata": {},
   "outputs": [],
   "source": [
    "import types,collections.abc"
   ]
  },
  {
   "cell_type": "code",
   "execution_count": 225,
   "id": "d30fcb39",
   "metadata": {},
   "outputs": [
    {
     "ename": "AttributeError",
     "evalue": "module 'collections' has no attribute 'IteratorType'",
     "output_type": "error",
     "traceback": [
      "\u001b[1;31m---------------------------------------------------------------------------\u001b[0m",
      "\u001b[1;31mAttributeError\u001b[0m                            Traceback (most recent call last)",
      "Cell \u001b[1;32mIn[225], line 1\u001b[0m\n\u001b[1;32m----> 1\u001b[0m \u001b[38;5;28missubclass\u001b[39m(types\u001b[38;5;241m.\u001b[39mGeneratorType,collections\u001b[38;5;241m.\u001b[39mIteratorType)\n",
      "\u001b[1;31mAttributeError\u001b[0m: module 'collections' has no attribute 'IteratorType'"
     ]
    }
   ],
   "source": [
    "issubclass(types.GeneratorType,collections.IteratorType)"
   ]
  },
  {
   "cell_type": "markdown",
   "id": "7cde6e07",
   "metadata": {},
   "source": [
    "    This thing is not in latest version of Python"
   ]
  },
  {
   "cell_type": "code",
   "execution_count": 226,
   "id": "edaefd04",
   "metadata": {},
   "outputs": [
    {
     "data": {
      "text/plain": [
       "True"
      ]
     },
     "execution_count": 226,
     "metadata": {},
     "output_type": "execute_result"
    }
   ],
   "source": [
    "issubclass(types.GeneratorType,collections.abc.Iterator)"
   ]
  },
  {
   "cell_type": "code",
   "execution_count": 230,
   "id": "e430a68f",
   "metadata": {},
   "outputs": [],
   "source": [
    "class Animal:\n",
    "    def __init__(self, name):\n",
    "        self.name = name\n",
    "\n",
    "class Dog(Animal):\n",
    "    def bark(self):\n",
    "        print(f\"{self.name} barks!\")\n",
    "\n",
    "\n"
   ]
  },
  {
   "cell_type": "code",
   "execution_count": 231,
   "id": "4b2e9e13",
   "metadata": {},
   "outputs": [
    {
     "name": "stdout",
     "output_type": "stream",
     "text": [
      "True\n"
     ]
    }
   ],
   "source": [
    "is_subclass = issubclass(Dog, Animal)\n",
    "print(is_subclass) "
   ]
  },
  {
   "cell_type": "markdown",
   "id": "26db2f03",
   "metadata": {},
   "source": [
    "## Function Copy"
   ]
  },
  {
   "cell_type": "code",
   "execution_count": 232,
   "id": "0c11dca0",
   "metadata": {},
   "outputs": [],
   "source": [
    "def welcome():\n",
    "    print(\"Hello all and welcome !\")"
   ]
  },
  {
   "cell_type": "code",
   "execution_count": 233,
   "id": "7ce8ea1f",
   "metadata": {},
   "outputs": [
    {
     "name": "stdout",
     "output_type": "stream",
     "text": [
      "Hello all and welcome !\n"
     ]
    }
   ],
   "source": [
    "welcome()"
   ]
  },
  {
   "cell_type": "code",
   "execution_count": 234,
   "id": "0530ab1a",
   "metadata": {},
   "outputs": [
    {
     "name": "stdout",
     "output_type": "stream",
     "text": [
      "Hello all and welcome !\n"
     ]
    }
   ],
   "source": [
    "wel=welcome()"
   ]
  },
  {
   "cell_type": "code",
   "execution_count": 235,
   "id": "5ee9e026",
   "metadata": {},
   "outputs": [],
   "source": [
    "wel"
   ]
  },
  {
   "cell_type": "code",
   "execution_count": 236,
   "id": "a82c9060",
   "metadata": {},
   "outputs": [],
   "source": [
    "def Hello():\n",
    "    return \"Hello Duniya\""
   ]
  },
  {
   "cell_type": "code",
   "execution_count": 237,
   "id": "a186cab6",
   "metadata": {},
   "outputs": [],
   "source": [
    "hi=Hello()"
   ]
  },
  {
   "cell_type": "code",
   "execution_count": 238,
   "id": "adb81cbf",
   "metadata": {},
   "outputs": [
    {
     "data": {
      "text/plain": [
       "'Hello Duniya'"
      ]
     },
     "execution_count": 238,
     "metadata": {},
     "output_type": "execute_result"
    }
   ],
   "source": [
    "hi"
   ]
  },
  {
   "cell_type": "code",
   "execution_count": 239,
   "id": "b6cae667",
   "metadata": {},
   "outputs": [],
   "source": [
    "del Hello"
   ]
  },
  {
   "cell_type": "code",
   "execution_count": 240,
   "id": "008c01af",
   "metadata": {},
   "outputs": [
    {
     "ename": "NameError",
     "evalue": "name 'Hello' is not defined",
     "output_type": "error",
     "traceback": [
      "\u001b[1;31m---------------------------------------------------------------------------\u001b[0m",
      "\u001b[1;31mNameError\u001b[0m                                 Traceback (most recent call last)",
      "Cell \u001b[1;32mIn[240], line 1\u001b[0m\n\u001b[1;32m----> 1\u001b[0m Hello()\n",
      "\u001b[1;31mNameError\u001b[0m: name 'Hello' is not defined"
     ]
    }
   ],
   "source": [
    "Hello()"
   ]
  },
  {
   "cell_type": "code",
   "execution_count": 241,
   "id": "1c2c126c",
   "metadata": {},
   "outputs": [
    {
     "data": {
      "text/plain": [
       "'Hello Duniya'"
      ]
     },
     "execution_count": 241,
     "metadata": {},
     "output_type": "execute_result"
    }
   ],
   "source": [
    "#But here we have copied the function over there in a variable ..\n",
    "\n",
    "hi"
   ]
  },
  {
   "cell_type": "code",
   "execution_count": 243,
   "id": "d0f50dbd",
   "metadata": {},
   "outputs": [],
   "source": [
    "# This was about Function Copy and also asked in a company's interview"
   ]
  },
  {
   "cell_type": "markdown",
   "id": "3165eae7",
   "metadata": {},
   "source": [
    "## Closures in Python\n",
    "- A closure is a function object that \"remembers\" the environment (variables) from its enclosing scope even after the outer function has finished executing and is no longer in memory.\n",
    "\n",
    "- This allows the inner function to access and potentially modify variables from the outer scope, even when called outside of that scope."
   ]
  },
  {
   "cell_type": "code",
   "execution_count": 244,
   "id": "5dca6a01",
   "metadata": {},
   "outputs": [],
   "source": [
    "def main_welcome(msg):\n",
    "   \n",
    "    def sub_welcome_class():\n",
    "        print(\"Welcome the World of Python\")\n",
    "        print(msg)\n",
    "        print(\"Hello Everyone Here\")\n",
    "    return sub_welcome_class()"
   ]
  },
  {
   "cell_type": "code",
   "execution_count": 245,
   "id": "2090a294",
   "metadata": {},
   "outputs": [
    {
     "name": "stdout",
     "output_type": "stream",
     "text": [
      "Welcome the World of Python\n",
      "5\n",
      "Hello Everyone Here\n"
     ]
    }
   ],
   "source": [
    "main_welcome(5)"
   ]
  },
  {
   "cell_type": "code",
   "execution_count": 246,
   "id": "510e4aaf",
   "metadata": {},
   "outputs": [
    {
     "name": "stdout",
     "output_type": "stream",
     "text": [
      "Welcome the World of Python\n",
      "Raj Aryan\n",
      "Hello Everyone Here\n"
     ]
    }
   ],
   "source": [
    "main_welcome(\"Raj Aryan\")"
   ]
  },
  {
   "cell_type": "code",
   "execution_count": 247,
   "id": "35263c75",
   "metadata": {},
   "outputs": [
    {
     "name": "stdout",
     "output_type": "stream",
     "text": [
      "Hello, Ayushi!\n",
      "Hello, Raj!\n"
     ]
    }
   ],
   "source": [
    "def create_greeter(greeting):  \n",
    "    \n",
    "  def greeter_inner(name):  # Inner function (closure)\n",
    "    return f\"{greeting}, {name}!\"\n",
    "  return greeter_inner  # Return the inner function\n",
    "\n",
    "# Create a closure with \"Hello\" as the greeting\n",
    "say_hello = create_greeter(\"Hello\")\n",
    "\n",
    "# Call the closure with different names\n",
    "message1 = say_hello(\"Ayushi\")\n",
    "message2 = say_hello(\"Raj\")\n",
    "\n",
    "print(message1)  \n",
    "print(message2)  \n"
   ]
  },
  {
   "cell_type": "code",
   "execution_count": 248,
   "id": "b5e93457",
   "metadata": {},
   "outputs": [],
   "source": [
    "def mainf(myfun):\n",
    "    def submainf():\n",
    "        print(\"Welcome\")\n",
    "        myfun(\"Secret Text\")\n",
    "        print(\"This is the End\")\n",
    "    return submainf()"
   ]
  },
  {
   "cell_type": "code",
   "execution_count": 250,
   "id": "a67716f3",
   "metadata": {},
   "outputs": [
    {
     "name": "stdout",
     "output_type": "stream",
     "text": [
      "Welcome\n",
      "Secret Text\n",
      "This is the End\n"
     ]
    }
   ],
   "source": [
    "mainf(print)"
   ]
  },
  {
   "cell_type": "code",
   "execution_count": 255,
   "id": "fabe4dbb",
   "metadata": {},
   "outputs": [],
   "source": [
    "def mainf(myfun):\n",
    "    def submainf():\n",
    "        print(\"Welcome\")\n",
    "        print(myfun([2,1,55,1,66,3,8,0]))\n",
    "        print(\"This is the End\")\n",
    "    return submainf()"
   ]
  },
  {
   "cell_type": "code",
   "execution_count": 256,
   "id": "c8c4bd1e",
   "metadata": {},
   "outputs": [
    {
     "name": "stdout",
     "output_type": "stream",
     "text": [
      "Welcome\n",
      "8\n",
      "This is the End\n"
     ]
    }
   ],
   "source": [
    "mainf(len)"
   ]
  },
  {
   "cell_type": "markdown",
   "id": "1df73694",
   "metadata": {},
   "source": [
    "    Now till now we were calling a particular inbuilt functions in the function. So we will be creating our own function and using it."
   ]
  },
  {
   "cell_type": "markdown",
   "id": "2a11c6e8",
   "metadata": {},
   "source": [
    "### Decorators\n",
    "\n",
    "- This is basically when you're calling a function within a function and also passing a function as a parameter.\n",
    "\n"
   ]
  },
  {
   "cell_type": "code",
   "execution_count": 262,
   "id": "154c3e63",
   "metadata": {},
   "outputs": [],
   "source": [
    "def mainf(fun):\n",
    "    def submainf():\n",
    "        print(\"Welcome\")\n",
    "        fun()\n",
    "        print(\"This is the End\")\n",
    "    return submainf()"
   ]
  },
  {
   "cell_type": "code",
   "execution_count": 263,
   "id": "66342330",
   "metadata": {},
   "outputs": [],
   "source": [
    "def newSample():\n",
    "    print(\"Hey I've been called\")"
   ]
  },
  {
   "cell_type": "code",
   "execution_count": 264,
   "id": "f4e2f65d",
   "metadata": {},
   "outputs": [
    {
     "name": "stdout",
     "output_type": "stream",
     "text": [
      "Welcome\n",
      "Hey I've been called\n",
      "This is the End\n"
     ]
    }
   ],
   "source": [
    "mainf(newSample)"
   ]
  },
  {
   "cell_type": "markdown",
   "id": "fc8fd86c",
   "metadata": {},
   "source": [
    "    Amazing Right !!"
   ]
  },
  {
   "cell_type": "code",
   "execution_count": 266,
   "id": "77b95c1a",
   "metadata": {},
   "outputs": [
    {
     "name": "stdout",
     "output_type": "stream",
     "text": [
      "Welcome\n",
      "This is of Sample 2\n",
      "This is the End\n"
     ]
    }
   ],
   "source": [
    "@mainf  # Creating a Decorator to pass it directly\n",
    "def Sample02():\n",
    "    print(\"This is of Sample 2\")"
   ]
  },
  {
   "cell_type": "markdown",
   "id": "45ed23f1",
   "metadata": {},
   "source": [
    "## is vs ==\n",
    "\n",
    "           is (Identity Operator):\n",
    "\n",
    "1. Checks if two variables refer to the same object in memory.\n",
    "2. It compares the memory addresses of the objects.\n",
    "3. Use is when you want to know if two variables point to the exact same object.\n",
    "\n",
    "\n",
    "          == (Equality Operator):\n",
    "\n",
    "1. Checks if two objects have the same value.\n",
    "2. It compares the values of the objects themselves.\n",
    "3. Use == when you want to know if two objects have the same content, regardless of whether they are stored in the same memory location.\n"
   ]
  },
  {
   "cell_type": "code",
   "execution_count": 295,
   "id": "f13abddf",
   "metadata": {},
   "outputs": [
    {
     "data": {
      "text/plain": [
       "True"
      ]
     },
     "execution_count": 295,
     "metadata": {},
     "output_type": "execute_result"
    }
   ],
   "source": [
    "lst1=[1,2,3,4]\n",
    "lst2=[1,2,3,4]\n",
    "\n",
    "lst1==lst2"
   ]
  },
  {
   "cell_type": "code",
   "execution_count": 296,
   "id": "ff00d3d7",
   "metadata": {},
   "outputs": [
    {
     "data": {
      "text/plain": [
       "True"
      ]
     },
     "execution_count": 296,
     "metadata": {},
     "output_type": "execute_result"
    }
   ],
   "source": [
    "a=\"Raj Aryan\"\n",
    "b='Raj Aryan'\n",
    "a==b"
   ]
  },
  {
   "cell_type": "code",
   "execution_count": 297,
   "id": "3430bacb",
   "metadata": {},
   "outputs": [],
   "source": [
    "val1=['Raj',5,6]\n",
    "val2=val1"
   ]
  },
  {
   "cell_type": "code",
   "execution_count": 298,
   "id": "47ad4bce",
   "metadata": {},
   "outputs": [
    {
     "data": {
      "text/plain": [
       "True"
      ]
     },
     "execution_count": 298,
     "metadata": {},
     "output_type": "execute_result"
    }
   ],
   "source": [
    "val1 is val2"
   ]
  },
  {
   "cell_type": "code",
   "execution_count": 299,
   "id": "e697d028",
   "metadata": {},
   "outputs": [
    {
     "data": {
      "text/plain": [
       "True"
      ]
     },
     "execution_count": 299,
     "metadata": {},
     "output_type": "execute_result"
    }
   ],
   "source": [
    "val2 is val1"
   ]
  },
  {
   "cell_type": "code",
   "execution_count": 300,
   "id": "fe24ec3b",
   "metadata": {},
   "outputs": [
    {
     "data": {
      "text/plain": [
       "False"
      ]
     },
     "execution_count": 300,
     "metadata": {},
     "output_type": "execute_result"
    }
   ],
   "source": [
    "a is b"
   ]
  },
  {
   "cell_type": "code",
   "execution_count": 301,
   "id": "c3a25d96",
   "metadata": {},
   "outputs": [
    {
     "data": {
      "text/plain": [
       "False"
      ]
     },
     "execution_count": 301,
     "metadata": {},
     "output_type": "execute_result"
    }
   ],
   "source": [
    "lst1 is lst2"
   ]
  },
  {
   "cell_type": "code",
   "execution_count": 302,
   "id": "d93fe84f",
   "metadata": {},
   "outputs": [
    {
     "data": {
      "text/plain": [
       "False"
      ]
     },
     "execution_count": 302,
     "metadata": {},
     "output_type": "execute_result"
    }
   ],
   "source": [
    "lst1==a"
   ]
  },
  {
   "cell_type": "markdown",
   "id": "d792bff8",
   "metadata": {},
   "source": [
    "\n",
    "## 60+ Python projects with source code !!\n",
    "\n",
    "\n",
    "https://medium.com/coders-camp/60-python-projects-with-source-code-919cd8a6e512"
   ]
  },
  {
   "cell_type": "markdown",
   "id": "b8645999",
   "metadata": {},
   "source": [
    "## Shallow copy vs Deep Copy\n",
    "\n",
    "### Shallow Copy:\n",
    "\n",
    "- Creates a new object of the same type as the original.\n",
    "- Copies the references (memory addresses) to the original object's attributes (if it has any).\n",
    "- Changes made to the copy's attributes will also affect the original object.\n",
    "\n",
    "\n",
    "### Deep Copy:\n",
    "\n",
    "- Creates a new object of the same type as the original.\n",
    "- Recursively copies the values of the original object's attributes, creating entirely new objects for any nested data structures.\n",
    "- Changes made to the copy's attributes will not affect the original object.\n",
    "\n",
    "\n"
   ]
  },
  {
   "cell_type": "code",
   "execution_count": 313,
   "id": "b85d4bd0",
   "metadata": {},
   "outputs": [],
   "source": [
    "lst1=[1,2,3,4]\n",
    "lst2=lst1"
   ]
  },
  {
   "cell_type": "code",
   "execution_count": 314,
   "id": "8e360d80",
   "metadata": {},
   "outputs": [],
   "source": [
    "lst2[1]=1000"
   ]
  },
  {
   "cell_type": "code",
   "execution_count": 315,
   "id": "adbc40ca",
   "metadata": {},
   "outputs": [
    {
     "data": {
      "text/plain": [
       "[1, 1000, 3, 4]"
      ]
     },
     "execution_count": 315,
     "metadata": {},
     "output_type": "execute_result"
    }
   ],
   "source": [
    "lst2"
   ]
  },
  {
   "cell_type": "code",
   "execution_count": 316,
   "id": "cbddca9c",
   "metadata": {},
   "outputs": [
    {
     "data": {
      "text/plain": [
       "[1, 1000, 3, 4]"
      ]
     },
     "execution_count": 316,
     "metadata": {},
     "output_type": "execute_result"
    }
   ],
   "source": [
    "lst1"
   ]
  },
  {
   "cell_type": "code",
   "execution_count": 317,
   "id": "3c8102ac",
   "metadata": {},
   "outputs": [],
   "source": [
    "##copy\n",
    "## Shallow Copy\n",
    "lst1=[1,2,3,4]\n",
    "lst2=lst1.copy()"
   ]
  },
  {
   "cell_type": "code",
   "execution_count": 318,
   "id": "31742438",
   "metadata": {},
   "outputs": [],
   "source": [
    "lst2[1]=500"
   ]
  },
  {
   "cell_type": "code",
   "execution_count": 319,
   "id": "89ad2845",
   "metadata": {},
   "outputs": [
    {
     "data": {
      "text/plain": [
       "([1, 2, 3, 4], [1, 500, 3, 4])"
      ]
     },
     "execution_count": 319,
     "metadata": {},
     "output_type": "execute_result"
    }
   ],
   "source": [
    "lst1,lst2"
   ]
  },
  {
   "cell_type": "code",
   "execution_count": 320,
   "id": "4bd095c4",
   "metadata": {},
   "outputs": [],
   "source": [
    "## Shallow Copy nested list\n",
    "lst1=[[1,2,3,4],[5,6,7,8]]\n",
    "lst2=lst1.copy()"
   ]
  },
  {
   "cell_type": "code",
   "execution_count": 321,
   "id": "d5fa5fbd",
   "metadata": {},
   "outputs": [],
   "source": [
    "lst1[1][0]=100\n"
   ]
  },
  {
   "cell_type": "code",
   "execution_count": 322,
   "id": "33b74f18",
   "metadata": {},
   "outputs": [
    {
     "data": {
      "text/plain": [
       "[[1, 2, 3, 4], [100, 6, 7, 8]]"
      ]
     },
     "execution_count": 322,
     "metadata": {},
     "output_type": "execute_result"
    }
   ],
   "source": [
    "lst1"
   ]
  },
  {
   "cell_type": "code",
   "execution_count": 323,
   "id": "24cec448",
   "metadata": {},
   "outputs": [
    {
     "data": {
      "text/plain": [
       "[[1, 2, 3, 4], [100, 6, 7, 8]]"
      ]
     },
     "execution_count": 323,
     "metadata": {},
     "output_type": "execute_result"
    }
   ],
   "source": [
    "lst2"
   ]
  },
  {
   "cell_type": "code",
   "execution_count": 324,
   "id": "fe9c12ad",
   "metadata": {},
   "outputs": [],
   "source": [
    "lst1.append([2,3,4,5])\n"
   ]
  },
  {
   "cell_type": "code",
   "execution_count": 325,
   "id": "59334bbb",
   "metadata": {},
   "outputs": [
    {
     "data": {
      "text/plain": [
       "[[1, 2, 3, 4], [100, 6, 7, 8], [2, 3, 4, 5]]"
      ]
     },
     "execution_count": 325,
     "metadata": {},
     "output_type": "execute_result"
    }
   ],
   "source": [
    "lst1"
   ]
  },
  {
   "cell_type": "code",
   "execution_count": 326,
   "id": "1e71e6df",
   "metadata": {},
   "outputs": [
    {
     "data": {
      "text/plain": [
       "[[1, 2, 3, 4], [100, 6, 7, 8]]"
      ]
     },
     "execution_count": 326,
     "metadata": {},
     "output_type": "execute_result"
    }
   ],
   "source": [
    "lst2"
   ]
  },
  {
   "cell_type": "markdown",
   "id": "9c5c6446",
   "metadata": {},
   "source": [
    "This happened because they were referring to the same object inside a particular list.\n",
    "\n",
    "i.e. changes in the item will not be there but if you change in the object it will be done."
   ]
  },
  {
   "cell_type": "code",
   "execution_count": 327,
   "id": "e83ed57a",
   "metadata": {},
   "outputs": [],
   "source": [
    "import copy\n",
    "lst1=[1,2,3,4]\n",
    "lst2=copy.deepcopy(lst1)"
   ]
  },
  {
   "cell_type": "code",
   "execution_count": 328,
   "id": "91720274",
   "metadata": {},
   "outputs": [],
   "source": [
    "lst2[1]=999"
   ]
  },
  {
   "cell_type": "code",
   "execution_count": 330,
   "id": "0c1ead61",
   "metadata": {},
   "outputs": [
    {
     "data": {
      "text/plain": [
       "[1, 999, 3, 4]"
      ]
     },
     "execution_count": 330,
     "metadata": {},
     "output_type": "execute_result"
    }
   ],
   "source": [
    "lst2"
   ]
  },
  {
   "cell_type": "code",
   "execution_count": 331,
   "id": "88753cf7",
   "metadata": {},
   "outputs": [
    {
     "data": {
      "text/plain": [
       "[1, 2, 3, 4]"
      ]
     },
     "execution_count": 331,
     "metadata": {},
     "output_type": "execute_result"
    }
   ],
   "source": [
    "lst1"
   ]
  },
  {
   "cell_type": "code",
   "execution_count": 333,
   "id": "f5106d6d",
   "metadata": {},
   "outputs": [],
   "source": [
    "# In a 1D list \"Shallow Copy is same as Deep Copy\"."
   ]
  },
  {
   "cell_type": "code",
   "execution_count": 334,
   "id": "abdd0b65",
   "metadata": {},
   "outputs": [],
   "source": [
    "\n",
    "lst1=[[1,2,3],[3,4,5,],[5,6,7]]\n",
    "lst2=lst1.copy()"
   ]
  },
  {
   "cell_type": "code",
   "execution_count": 335,
   "id": "4e08f03d",
   "metadata": {},
   "outputs": [],
   "source": [
    "lst1=[[1,2,3],[3,4,5,],[5,6,7]]\n",
    "lst2=copy.deepcopy(lst1)"
   ]
  },
  {
   "cell_type": "code",
   "execution_count": 336,
   "id": "063b20ea",
   "metadata": {},
   "outputs": [],
   "source": [
    "lst2[1][0]=555"
   ]
  },
  {
   "cell_type": "code",
   "execution_count": 337,
   "id": "2bce6e1b",
   "metadata": {},
   "outputs": [
    {
     "data": {
      "text/plain": [
       "[[1, 2, 3], [3, 4, 5], [5, 6, 7]]"
      ]
     },
     "execution_count": 337,
     "metadata": {},
     "output_type": "execute_result"
    }
   ],
   "source": [
    "lst1"
   ]
  },
  {
   "cell_type": "code",
   "execution_count": 338,
   "id": "1789ad9b",
   "metadata": {},
   "outputs": [
    {
     "data": {
      "text/plain": [
       "[[1, 2, 3], [555, 4, 5], [5, 6, 7]]"
      ]
     },
     "execution_count": 338,
     "metadata": {},
     "output_type": "execute_result"
    }
   ],
   "source": [
    "lst2"
   ]
  },
  {
   "cell_type": "markdown",
   "id": "5bb50916",
   "metadata": {},
   "source": [
    "More doubts in this topic then have a look :\n",
    "\n",
    "https://youtu.be/SgUwPDT9tEs?si=RndN4CT_7Sln8kdX"
   ]
  },
  {
   "cell_type": "markdown",
   "id": "976a3fcb",
   "metadata": {},
   "source": [
    "## Class Methods and Class Variables\n",
    "\n",
    "### Class Methods:\n",
    "    \n",
    "    Definition: Class methods are methods that are bound to a class itself, not to specific object instances.\n",
    "    \n",
    "    Decorator: They are defined using the @classmethod decorator.\n",
    "    \n",
    "    Arguments: The first argument of a class method is usually cls, which refers to the class itself. This allows class methods to access and modify class attributes.\n",
    "\n",
    "                               Use Cases\n",
    "1. Modifying class attributes: They can be used to perform operations on the class itself, such as creating new instances with specific parameters.\n",
    "\n",
    "2. Alternative constructors: They can act as alternative constructors for creating class objects with different initialization logic.\n",
    "\n",
    "3. Utility functions related to the class: They can provide utility functions that operate on the class or its attributes without requiring an object instance.\n",
    "\n",
    "\n",
    "### Class Variables:\n",
    "\n",
    "    Definition: Class variables are variables that are shared by all instances of a class.\n",
    "    \n",
    "    Access: They are accessed using the class name or the instance itself followed by the variable name.\n",
    "    \n",
    "    Modification: They can be modified within the class or through class methods.\n"
   ]
  },
  {
   "cell_type": "code",
   "execution_count": 14,
   "id": "ee8b3d94",
   "metadata": {},
   "outputs": [],
   "source": [
    "class Car:\n",
    "    base_price=100000 # Class Variable\n",
    "    def __init__(self,windows,doors,rating):\n",
    "        self.window=windows\n",
    "        self.door=doors\n",
    "        self.rating=rating\n",
    "    def base_rate(self):\n",
    "        print('The base price of this model is {}.'.format(self.base_price))\n",
    "    "
   ]
  },
  {
   "cell_type": "code",
   "execution_count": 15,
   "id": "a7416f4e",
   "metadata": {},
   "outputs": [],
   "source": [
    "car1=Car(4,5,4.2)"
   ]
  },
  {
   "cell_type": "code",
   "execution_count": 16,
   "id": "fdcf39d6",
   "metadata": {},
   "outputs": [
    {
     "data": {
      "text/plain": [
       "4.2"
      ]
     },
     "execution_count": 16,
     "metadata": {},
     "output_type": "execute_result"
    }
   ],
   "source": [
    "car1.rating"
   ]
  },
  {
   "cell_type": "code",
   "execution_count": 17,
   "id": "6a1e0c41",
   "metadata": {},
   "outputs": [
    {
     "name": "stdout",
     "output_type": "stream",
     "text": [
      "The base price of this model is 100000.\n"
     ]
    }
   ],
   "source": [
    "car1.base_rate()"
   ]
  },
  {
   "cell_type": "markdown",
   "id": "65a52f1d",
   "metadata": {},
   "source": [
    "#### Consider a case"
   ]
  },
  {
   "cell_type": "markdown",
   "id": "b87e5e83",
   "metadata": {},
   "source": [
    "    Let's comsider a case where every year we get an inflation of 10% in the car's base price. What to do and how to solve this problem !\n",
    "    \n",
    "- For such cases we won't be declaring the base_rate again or over writing it !\n",
    "- Here instead we will be using a decorator 'classmethod'.\n",
    "- Now we will be creating a function to update that particular thing.\n",
    "- That fun will require two parameter ..\n",
    "- (cls) as a referance directly to the class and value to be altered!\n",
    "\n",
    "            Note: We pass \"self\" as a parameter that refers that it is with respect to the instance of the class. When we pass \"cls\" as a parameter it refers directly to our class."
   ]
  },
  {
   "cell_type": "code",
   "execution_count": 52,
   "id": "182561d2",
   "metadata": {},
   "outputs": [],
   "source": [
    "class Car:\n",
    "    base_price=250000 # Class Variable\n",
    "    def __init__(self,windows,doors,rating):\n",
    "        self.window=windows\n",
    "        self.door=doors\n",
    "        self.rating=rating\n",
    "    def base_rate(self):\n",
    "        print('The base price of this model is {}.'.format(self.base_price))\n",
    "    \n",
    "    @classmethod\n",
    "    def updated_base_price(cls,inflation):\n",
    "        cls.base_price += cls.base_price * inflation\n",
    "        "
   ]
  },
  {
   "cell_type": "code",
   "execution_count": 53,
   "id": "d3d47da6",
   "metadata": {},
   "outputs": [],
   "source": [
    "car2=Car(2,4,4.1)"
   ]
  },
  {
   "cell_type": "code",
   "execution_count": 54,
   "id": "0d030282",
   "metadata": {},
   "outputs": [
    {
     "name": "stdout",
     "output_type": "stream",
     "text": [
      "The base price of this model is 250000.\n"
     ]
    }
   ],
   "source": [
    "car2.base_rate()"
   ]
  },
  {
   "cell_type": "code",
   "execution_count": 55,
   "id": "eec58e80",
   "metadata": {},
   "outputs": [
    {
     "data": {
      "text/plain": [
       "250000"
      ]
     },
     "execution_count": 55,
     "metadata": {},
     "output_type": "execute_result"
    }
   ],
   "source": [
    "car2.base_price"
   ]
  },
  {
   "cell_type": "code",
   "execution_count": 56,
   "id": "02048d69",
   "metadata": {},
   "outputs": [],
   "source": [
    "Car.updated_base_price(0.30)"
   ]
  },
  {
   "cell_type": "code",
   "execution_count": 57,
   "id": "f6e4163b",
   "metadata": {},
   "outputs": [
    {
     "data": {
      "text/plain": [
       "325000.0"
      ]
     },
     "execution_count": 57,
     "metadata": {},
     "output_type": "execute_result"
    }
   ],
   "source": [
    "car2.base_price"
   ]
  },
  {
   "cell_type": "code",
   "execution_count": 58,
   "id": "de586ba0",
   "metadata": {},
   "outputs": [
    {
     "name": "stdout",
     "output_type": "stream",
     "text": [
      "The base price of this model is 100000.\n"
     ]
    }
   ],
   "source": [
    "car1.base_rate()"
   ]
  },
  {
   "cell_type": "code",
   "execution_count": 59,
   "id": "0a8d4189",
   "metadata": {},
   "outputs": [
    {
     "name": "stdout",
     "output_type": "stream",
     "text": [
      "The base price of this model is 325000.0.\n"
     ]
    }
   ],
   "source": [
    "car2.base_rate()"
   ]
  },
  {
   "cell_type": "markdown",
   "id": "0d915084",
   "metadata": {},
   "source": [
    "Even creating changes in the instance will also be updating the value like---"
   ]
  },
  {
   "cell_type": "code",
   "execution_count": 60,
   "id": "9cb4b69c",
   "metadata": {},
   "outputs": [],
   "source": [
    "car2.updated_base_price(0.15)"
   ]
  },
  {
   "cell_type": "code",
   "execution_count": 61,
   "id": "b4ab4167",
   "metadata": {},
   "outputs": [
    {
     "name": "stdout",
     "output_type": "stream",
     "text": [
      "The base price of this model is 373750.0.\n"
     ]
    }
   ],
   "source": [
    "car2.base_rate()"
   ]
  },
  {
   "cell_type": "code",
   "execution_count": 62,
   "id": "72e6e528",
   "metadata": {},
   "outputs": [],
   "source": [
    "# It has been updated\n",
    "# Even new only will be too \n",
    "\n",
    "car3=Car(4,5,3.6)"
   ]
  },
  {
   "cell_type": "code",
   "execution_count": 63,
   "id": "63321040",
   "metadata": {},
   "outputs": [
    {
     "name": "stdout",
     "output_type": "stream",
     "text": [
      "The base price of this model is 373750.0.\n"
     ]
    }
   ],
   "source": [
    "car3.base_rate()"
   ]
  },
  {
   "cell_type": "markdown",
   "id": "a998e06c",
   "metadata": {},
   "source": [
    "But best practice is to update in class method !!\n",
    "\n",
    "\n",
    "Important part was to learn the use of \"cls\""
   ]
  },
  {
   "cell_type": "code",
   "execution_count": 64,
   "id": "509dc128",
   "metadata": {},
   "outputs": [
    {
     "name": "stdout",
     "output_type": "stream",
     "text": [
      "2\n",
      "2\n"
     ]
    }
   ],
   "source": [
    "class Person:\n",
    "    count = 0  # Class variable (shared by all instances)\n",
    "\n",
    "    def __init__(self, name, age):\n",
    "        self.name = name\n",
    "        self.age = age\n",
    "        Person.count += 1  # Increment class variable\n",
    "\n",
    "    @classmethod\n",
    "    def from_birth_year(cls, name, birth_year):\n",
    "        \"\"\"Creates a Person object from the given birth year.\"\"\"\n",
    "        age = 2023 - birth_year\n",
    "        return cls(name, age)\n",
    "\n",
    "# Create objects using class methods\n",
    "person1 = Person(\"Raj\", 21)\n",
    "person2 = Person.from_birth_year(\"Ayushi\", 2001)\n",
    "\n",
    "print(person1.count)  \n",
    "print(person2.count)  \n"
   ]
  },
  {
   "cell_type": "markdown",
   "id": "6b6e30f7",
   "metadata": {},
   "source": [
    "## Static method\n",
    "\n",
    "- As soon as the class is loaded the first thing that gets initialised that is the static method.\n",
    "- Also this faster.\n",
    "- You cannot create multiple copies of static method.\n",
    "\n",
    "                            Definition:\n",
    "    \n",
    "1. It is defined using the @staticmethod decorator before the method definition.\n",
    "\n",
    "2. It does not receive any implicit first argument like self (for instance methods) or cls (for class methods).\n",
    "\n",
    "3. It cannot access or modify the state of the class or its instances.\n",
    "\n",
    "                            Use Cases\n",
    "\n",
    "- Utility functions: Static methods are often used for utility functions that are related to the class's functionality but don't require access to specific instance or class attributes.\n",
    "\n",
    "- Mathematical operations: They can be used for performing calculations or mathematical operations that don't rely on object data.\n",
    "\n",
    "- Alternative constructors: In some cases, static methods can act as alternative constructors for creating objects with specific parameters."
   ]
  },
  {
   "cell_type": "code",
   "execution_count": 75,
   "id": "3fd2fbc7",
   "metadata": {},
   "outputs": [],
   "source": [
    "import datetime\n",
    "now= datetime.datetime.now()"
   ]
  },
  {
   "cell_type": "code",
   "execution_count": 80,
   "id": "363aefa9",
   "metadata": {},
   "outputs": [
    {
     "data": {
      "text/plain": [
       "int"
      ]
     },
     "execution_count": 80,
     "metadata": {},
     "output_type": "execute_result"
    }
   ],
   "source": [
    "type(now.year)"
   ]
  },
  {
   "cell_type": "code",
   "execution_count": 83,
   "id": "83c406c4",
   "metadata": {},
   "outputs": [],
   "source": [
    "class Car:\n",
    "    base_price=250000 # Class Variable\n",
    "    def __init__(self,windows,doors,rating):\n",
    "        self.window=windows\n",
    "        self.door=doors\n",
    "        self.rating=rating\n",
    "    def base_rate(self):\n",
    "        print('The base price of this model is {}.'.format(self.base_price))\n",
    "    \n",
    "    @classmethod\n",
    "    def updated_base_price(cls,inflation):\n",
    "        cls.base_price += cls.base_price * inflation\n",
    "        \n",
    "    @staticmethod\n",
    "    def check_year():\n",
    "          if now.year()==2024:\n",
    "            return True\n",
    "          else:\n",
    "            return False\n"
   ]
  },
  {
   "cell_type": "code",
   "execution_count": 84,
   "id": "b817b838",
   "metadata": {},
   "outputs": [
    {
     "ename": "TypeError",
     "evalue": "'int' object is not callable",
     "output_type": "error",
     "traceback": [
      "\u001b[1;31m---------------------------------------------------------------------------\u001b[0m",
      "\u001b[1;31mTypeError\u001b[0m                                 Traceback (most recent call last)",
      "Cell \u001b[1;32mIn[84], line 1\u001b[0m\n\u001b[1;32m----> 1\u001b[0m Car\u001b[38;5;241m.\u001b[39mcheck_year()\n",
      "Cell \u001b[1;32mIn[83], line 16\u001b[0m, in \u001b[0;36mCar.check_year\u001b[1;34m()\u001b[0m\n\u001b[0;32m     14\u001b[0m \u001b[38;5;129m@staticmethod\u001b[39m\n\u001b[0;32m     15\u001b[0m \u001b[38;5;28;01mdef\u001b[39;00m \u001b[38;5;21mcheck_year\u001b[39m():\n\u001b[1;32m---> 16\u001b[0m       \u001b[38;5;28;01mif\u001b[39;00m now\u001b[38;5;241m.\u001b[39myear()\u001b[38;5;241m==\u001b[39m\u001b[38;5;241m2024\u001b[39m:\n\u001b[0;32m     17\u001b[0m         \u001b[38;5;28;01mreturn\u001b[39;00m \u001b[38;5;28;01mTrue\u001b[39;00m\n\u001b[0;32m     18\u001b[0m       \u001b[38;5;28;01melse\u001b[39;00m:\n",
      "\u001b[1;31mTypeError\u001b[0m: 'int' object is not callable"
     ]
    }
   ],
   "source": [
    "Car.check_year()"
   ]
  },
  {
   "cell_type": "code",
   "execution_count": 85,
   "id": "9735abd2",
   "metadata": {},
   "outputs": [
    {
     "ename": "AttributeError",
     "evalue": "'Car' object has no attribute 'check_year'",
     "output_type": "error",
     "traceback": [
      "\u001b[1;31m---------------------------------------------------------------------------\u001b[0m",
      "\u001b[1;31mAttributeError\u001b[0m                            Traceback (most recent call last)",
      "Cell \u001b[1;32mIn[85], line 1\u001b[0m\n\u001b[1;32m----> 1\u001b[0m car2\u001b[38;5;241m.\u001b[39mcheck_year()\n",
      "\u001b[1;31mAttributeError\u001b[0m: 'Car' object has no attribute 'check_year'"
     ]
    }
   ],
   "source": [
    "car2.check_year()"
   ]
  },
  {
   "cell_type": "code",
   "execution_count": 87,
   "id": "0524eef4",
   "metadata": {},
   "outputs": [
    {
     "name": "stdout",
     "output_type": "stream",
     "text": [
      "120\n"
     ]
    }
   ],
   "source": [
    "class MathUtils:\n",
    "    @staticmethod\n",
    "    def factorial(n):\n",
    "        \"\"\"Calculates the factorial of a given number.\"\"\"\n",
    "        if n == 0:\n",
    "            return 1\n",
    "        else:\n",
    "            return n * MathUtils.factorial(n - 1)\n",
    "\n",
    "# Call the static method without creating an instance\n",
    "result = MathUtils.factorial(5)\n",
    "print(result)  \n"
   ]
  },
  {
   "cell_type": "markdown",
   "id": "49e98eb4",
   "metadata": {},
   "source": [
    "##### Static methods in Python do not require any implicit first argument (self or cls) because they are not designed to operate on the state of the class or its instances. Here's a deeper explanation:\n",
    "\n",
    "- Instance Methods:\n",
    "\n",
    "        Instance methods are bound to individual object instances.\n",
    "        They receive the instance itself as the first argument (self) when called.\n",
    "        This allows them to access and modify the attributes of the specific object instance they are called upon.\n",
    "\n",
    "- Class Methods:\n",
    "\n",
    "        Class methods are bound to the class itself.\n",
    "        They receive the class as the first argument (cls) when called.\n",
    "        This enables them to access and modify class attributes (shared by all instances).\n",
    "\n",
    "- Static Methods:\n",
    "\n",
    "        Static methods are not bound to either instances or the class itself.\n",
    "        They do not require any implicit first argument like self or cls.\n",
    "        They are essentially regular functions associated with the class namespace.\n",
    "        Their primary purpose is to provide utility functions or alternative constructors that don't rely on object or class state.\n",
    "\n",
    "\n",
    "        Since static methods are not intended to manipulate instance or class data, they don't need any implicit arguments like self or cls. They operate independently and can be called directly on the class or on an instance (although the instance is ignored in this case)."
   ]
  },
  {
   "cell_type": "markdown",
   "id": "e964bad2",
   "metadata": {},
   "source": [
    "## Multiple Inheritance in Python\n",
    "\n",
    "- Multiple inheritance in Python allows a class to inherit properties and methods from multiple parent classes. This can be useful for creating classes that combine functionalities from different areas. However, it can also lead to complexity and potential issues if not used carefully.\n",
    "\n"
   ]
  },
  {
   "cell_type": "code",
   "execution_count": 88,
   "id": "cb538eb8",
   "metadata": {},
   "outputs": [],
   "source": [
    "class A:\n",
    "    def method1(self):\n",
    "        print(\"A class method is called\")"
   ]
  },
  {
   "cell_type": "code",
   "execution_count": 89,
   "id": "77ac3680",
   "metadata": {},
   "outputs": [],
   "source": [
    "class B(A):\n",
    "    def method1(self):\n",
    "        print(\"B class method is called\")\n",
    "    def method2(self):\n",
    "        print(\"B class method2 is called\")"
   ]
  },
  {
   "cell_type": "code",
   "execution_count": 90,
   "id": "59753974",
   "metadata": {},
   "outputs": [],
   "source": [
    "class C(A):\n",
    "    def method1(self):\n",
    "        print(\"C class method is called\")\n",
    "    "
   ]
  },
  {
   "cell_type": "code",
   "execution_count": 91,
   "id": "4cc298d0",
   "metadata": {},
   "outputs": [],
   "source": [
    "\n",
    "class D(B,C):\n",
    "    def method1(self):\n",
    "        print(\"D class method is called\")\n",
    "        C.method1(self)\n",
    "        B.method1(self)\n",
    "        A.method1(self)"
   ]
  },
  {
   "cell_type": "code",
   "execution_count": 92,
   "id": "2c200405",
   "metadata": {},
   "outputs": [],
   "source": [
    "d=D()"
   ]
  },
  {
   "cell_type": "code",
   "execution_count": 93,
   "id": "a67ff8c6",
   "metadata": {},
   "outputs": [
    {
     "name": "stdout",
     "output_type": "stream",
     "text": [
      "D class method is called\n",
      "C class method is called\n",
      "B class method is called\n",
      "A class method is called\n"
     ]
    }
   ],
   "source": [
    "d.method1()"
   ]
  },
  {
   "cell_type": "code",
   "execution_count": 94,
   "id": "adcdc813",
   "metadata": {},
   "outputs": [
    {
     "name": "stdout",
     "output_type": "stream",
     "text": [
      "B class method2 is called\n"
     ]
    }
   ],
   "source": [
    "d.method2()"
   ]
  },
  {
   "cell_type": "code",
   "execution_count": 95,
   "id": "34b7e98b",
   "metadata": {},
   "outputs": [
    {
     "name": "stdout",
     "output_type": "stream",
     "text": [
      "B class method is called\n"
     ]
    }
   ],
   "source": [
    "B.method1(d)"
   ]
  },
  {
   "cell_type": "code",
   "execution_count": 96,
   "id": "8388dbc1",
   "metadata": {},
   "outputs": [
    {
     "name": "stdout",
     "output_type": "stream",
     "text": [
      "A class method is called\n"
     ]
    }
   ],
   "source": [
    "A.method1(d)"
   ]
  },
  {
   "cell_type": "code",
   "execution_count": 97,
   "id": "367a0b5d",
   "metadata": {},
   "outputs": [
    {
     "name": "stdout",
     "output_type": "stream",
     "text": [
      "C class method is called\n"
     ]
    }
   ],
   "source": [
    "C.method1(d)"
   ]
  },
  {
   "cell_type": "code",
   "execution_count": 98,
   "id": "7ebb8270",
   "metadata": {},
   "outputs": [
    {
     "name": "stdout",
     "output_type": "stream",
     "text": [
      "B class method2 is called\n"
     ]
    }
   ],
   "source": [
    "B.method2(d)"
   ]
  },
  {
   "cell_type": "code",
   "execution_count": 99,
   "id": "a832eaf7",
   "metadata": {},
   "outputs": [
    {
     "name": "stdout",
     "output_type": "stream",
     "text": [
      "Vehicle started\n",
      "EV charging\n",
      "Hybrid car driving\n"
     ]
    }
   ],
   "source": [
    "class Vehicle:\n",
    "    def __init__(self, make, model):\n",
    "        self.make = make\n",
    "        self.model = model\n",
    "\n",
    "    def start(self):\n",
    "        print(\"Vehicle started\")\n",
    "\n",
    "class ElectricVehicle:\n",
    "    def __init__(self, battery_type):\n",
    "        self.battery_type = battery_type\n",
    "\n",
    "    def charge(self):\n",
    "        print(\"EV charging\")\n",
    "\n",
    "class HybridCar(Vehicle, ElectricVehicle):  # Inherits from both Vehicle and ElectricVehicle\n",
    "    def __init__(self, make, model, battery_type):\n",
    "        Vehicle.__init__(self, make, model)  # Explicitly call Vehicle constructor\n",
    "        ElectricVehicle.__init__(self, battery_type)\n",
    "\n",
    "    def drive(self):\n",
    "        print(\"Hybrid car driving\")\n",
    "\n",
    "car = HybridCar(\"Tesla\", \"Model S\", \"Lithium Ion\")\n",
    "car.start()  # Inherited from Vehicle\n",
    "car.charge()  # Inherited from ElectricVehicle\n",
    "car.drive()  # Specific method of HybridCar\n"
   ]
  },
  {
   "cell_type": "markdown",
   "id": "f79ed261",
   "metadata": {},
   "source": [
    "## Eval function in Python"
   ]
  },
  {
   "cell_type": "code",
   "execution_count": 1,
   "id": "5ada7acd",
   "metadata": {},
   "outputs": [
    {
     "data": {
      "text/plain": [
       "25"
      ]
     },
     "execution_count": 1,
     "metadata": {},
     "output_type": "execute_result"
    }
   ],
   "source": [
    "5*5 "
   ]
  },
  {
   "cell_type": "code",
   "execution_count": 2,
   "id": "6c3e8b4f",
   "metadata": {},
   "outputs": [
    {
     "data": {
      "text/plain": [
       "74.04242424242425"
      ]
     },
     "execution_count": 2,
     "metadata": {},
     "output_type": "execute_result"
    }
   ],
   "source": [
    "## Eval functions evaluate the functions which are written in the form of 'strings'.\n",
    "eval(\"56*71/66+69/+5\")"
   ]
  },
  {
   "cell_type": "code",
   "execution_count": 4,
   "id": "e0b113f2",
   "metadata": {},
   "outputs": [
    {
     "data": {
      "text/plain": [
       "28"
      ]
     },
     "execution_count": 4,
     "metadata": {},
     "output_type": "execute_result"
    }
   ],
   "source": [
    "eval('22+6')"
   ]
  },
  {
   "cell_type": "code",
   "execution_count": 5,
   "id": "492cd76a",
   "metadata": {},
   "outputs": [
    {
     "name": "stdout",
     "output_type": "stream",
     "text": [
      "Enter the python expression 29*689/154/2\n"
     ]
    },
    {
     "data": {
      "text/plain": [
       "64.87337662337663"
      ]
     },
     "execution_count": 5,
     "metadata": {},
     "output_type": "execute_result"
    }
   ],
   "source": [
    "eval(input(\"Enter the python expression \"))"
   ]
  },
  {
   "cell_type": "code",
   "execution_count": 6,
   "id": "70138664",
   "metadata": {},
   "outputs": [
    {
     "name": "stdout",
     "output_type": "stream",
     "text": [
      "Enter the python expression sum([55,2,5,7,9])\n"
     ]
    },
    {
     "data": {
      "text/plain": [
       "78"
      ]
     },
     "execution_count": 6,
     "metadata": {},
     "output_type": "execute_result"
    }
   ],
   "source": [
    "eval(input(\"Enter the python expression \"))"
   ]
  },
  {
   "cell_type": "code",
   "execution_count": 7,
   "id": "54d0b3d8",
   "metadata": {},
   "outputs": [],
   "source": [
    "def square_num(num):\n",
    "    return num**2"
   ]
  },
  {
   "cell_type": "code",
   "execution_count": 8,
   "id": "60259e1b",
   "metadata": {},
   "outputs": [
    {
     "data": {
      "text/plain": [
       "49"
      ]
     },
     "execution_count": 8,
     "metadata": {},
     "output_type": "execute_result"
    }
   ],
   "source": [
    "eval(\"square_num(7)\")\n"
   ]
  },
  {
   "cell_type": "markdown",
   "id": "b304844f",
   "metadata": {},
   "source": [
    "## How does Eval work\n",
    "\n",
    "1. Parse python Expression\n",
    "2. compile into a byte code\n",
    "3. Evaluate the python expression\n",
    "4. It will return the result"
   ]
  },
  {
   "cell_type": "markdown",
   "id": "47e9fb6c",
   "metadata": {},
   "source": [
    "eval()\n",
    "\n",
    "Signature: eval(source, globals=None, locals=None, /)"
   ]
  },
  {
   "cell_type": "code",
   "execution_count": 9,
   "id": "5e06b6bc",
   "metadata": {},
   "outputs": [],
   "source": [
    "var=compile(\"5*5\",\"<string>\",\"eval\")\n"
   ]
  },
  {
   "cell_type": "code",
   "execution_count": 10,
   "id": "63545647",
   "metadata": {},
   "outputs": [
    {
     "data": {
      "text/plain": [
       "25"
      ]
     },
     "execution_count": 10,
     "metadata": {},
     "output_type": "execute_result"
    }
   ],
   "source": [
    "eval(var)"
   ]
  },
  {
   "cell_type": "code",
   "execution_count": 11,
   "id": "383db080",
   "metadata": {},
   "outputs": [
    {
     "data": {
      "text/plain": [
       "160"
      ]
     },
     "execution_count": 11,
     "metadata": {},
     "output_type": "execute_result"
    }
   ],
   "source": [
    "### GLobals\n",
    "x=10\n",
    "eval(\"x+50+x**2\",{\"x\":x})"
   ]
  },
  {
   "cell_type": "code",
   "execution_count": 12,
   "id": "d404fc54",
   "metadata": {},
   "outputs": [
    {
     "data": {
      "text/plain": [
       "1200"
      ]
     },
     "execution_count": 12,
     "metadata": {},
     "output_type": "execute_result"
    }
   ],
   "source": [
    "x=100\n",
    "z=100\n",
    "eval(\"x+z+w\",{\"x\":x,\"z\":100,\"w\":1000})"
   ]
  },
  {
   "cell_type": "code",
   "execution_count": 13,
   "id": "43672f36",
   "metadata": {},
   "outputs": [
    {
     "data": {
      "text/plain": [
       "10200"
      ]
     },
     "execution_count": 13,
     "metadata": {},
     "output_type": "execute_result"
    }
   ],
   "source": [
    "x=100\n",
    "z=100\n",
    "y=10000\n",
    "eval(\"x+z+y\")"
   ]
  },
  {
   "cell_type": "code",
   "execution_count": 14,
   "id": "bb0dd48d",
   "metadata": {},
   "outputs": [
    {
     "data": {
      "text/plain": [
       "1300"
      ]
     },
     "execution_count": 14,
     "metadata": {},
     "output_type": "execute_result"
    }
   ],
   "source": [
    "eval(\"a+b+c\",{},{\"a\":100,\"b\":200,\"c\":1000})"
   ]
  },
  {
   "cell_type": "code",
   "execution_count": 15,
   "id": "3aaf4acb",
   "metadata": {},
   "outputs": [
    {
     "data": {
      "text/plain": [
       "True"
      ]
     },
     "execution_count": 15,
     "metadata": {},
     "output_type": "execute_result"
    }
   ],
   "source": [
    "a=100\n",
    "b=200\n",
    "eval(\"a<b\")"
   ]
  },
  {
   "cell_type": "code",
   "execution_count": 16,
   "id": "1ecef2de",
   "metadata": {},
   "outputs": [
    {
     "ename": "NameError",
     "evalue": "name 'x' is not defined",
     "output_type": "error",
     "traceback": [
      "\u001b[1;31m---------------------------------------------------------------------------\u001b[0m",
      "\u001b[1;31mNameError\u001b[0m                                 Traceback (most recent call last)",
      "Cell \u001b[1;32mIn[16], line 3\u001b[0m\n\u001b[0;32m      1\u001b[0m x\u001b[38;5;241m=\u001b[39m\u001b[38;5;241m100\u001b[39m\n\u001b[0;32m      2\u001b[0m y\u001b[38;5;241m=\u001b[39m\u001b[38;5;241m100\u001b[39m\n\u001b[1;32m----> 3\u001b[0m \u001b[38;5;28meval\u001b[39m(\u001b[38;5;124m\"\u001b[39m\u001b[38;5;124mx+y\u001b[39m\u001b[38;5;124m\"\u001b[39m,{},{})\n",
      "File \u001b[1;32m<string>:1\u001b[0m\n",
      "\u001b[1;31mNameError\u001b[0m: name 'x' is not defined"
     ]
    }
   ],
   "source": [
    "\n",
    "x=100\n",
    "y=100\n",
    "eval(\"x+y\",{},{})"
   ]
  },
  {
   "cell_type": "code",
   "execution_count": null,
   "id": "709bf952",
   "metadata": {},
   "outputs": [],
   "source": []
  }
 ],
 "metadata": {
  "kernelspec": {
   "display_name": "Python 3 (ipykernel)",
   "language": "python",
   "name": "python3"
  },
  "language_info": {
   "codemirror_mode": {
    "name": "ipython",
    "version": 3
   },
   "file_extension": ".py",
   "mimetype": "text/x-python",
   "name": "python",
   "nbconvert_exporter": "python",
   "pygments_lexer": "ipython3",
   "version": "3.11.5"
  }
 },
 "nbformat": 4,
 "nbformat_minor": 5
}
